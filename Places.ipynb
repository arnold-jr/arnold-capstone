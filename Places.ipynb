{
 "cells": [
  {
   "cell_type": "markdown",
   "metadata": {},
   "source": [
    "#AmeniDC\n",
    "## See the cost of amenities in the District of Columbia"
   ]
  },
  {
   "cell_type": "code",
   "execution_count": 2,
   "metadata": {
    "collapsed": true
   },
   "outputs": [],
   "source": [
    "%matplotlib inline\n",
    "import matplotlib\n",
    "import seaborn as sns\n",
    "matplotlib.rcParams['savefig.dpi'] = 4 * matplotlib.rcParams['savefig.dpi']\n",
    "import matplotlib.pylab as plt\n",
    "\n",
    "# Define amenity types of interest\n",
    "AMENITY_TYPES = ['bakery','bar','cafe','grocery_or_supermarket',\n",
    "  'movie_theater','park','pharmacy','restaurant','school','spa','subway_station']\n",
    "\n",
    "valid_zipcodes = []\n",
    "with open('./data/valid_zipcodes.txt','r') as f:\n",
    "  valid_zipcodes = [line.strip() for line in f.readlines()]"
   ]
  },
  {
   "cell_type": "code",
   "execution_count": 3,
   "metadata": {
    "collapsed": true
   },
   "outputs": [],
   "source": [
    "import simplejson as json\n",
    "import requests\n",
    "from requests import Request, Session\n",
    "from bs4 import BeautifulSoup\n",
    "import re\n",
    "\n",
    "from urlparse import urljoin\n",
    "from collections import namedtuple\n",
    "import sqlite3\n",
    "from pyspark.sql import SQLContext\n",
    "\n",
    "import numpy as np\n",
    "import pandas as pd\n",
    "import dill as pickle\n",
    "\n",
    "import pprint\n",
    "pp = pprint.PrettyPrinter(indent=0)"
   ]
  },
  {
   "cell_type": "markdown",
   "metadata": {
    "slideshow": {
     "slide_type": "slide"
    }
   },
   "source": [
    "#OpenData.DC API"
   ]
  },
  {
   "cell_type": "markdown",
   "metadata": {
    "slideshow": {
     "slide_type": "subslide"
    }
   },
   "source": [
    "Get the property sale points from http://opendata.dc.gov/datasets/2acc75ccdd954267acecb8713b2b800a_28\n",
    "and store as a SQL database pandas DataFrame"
   ]
  },
  {
   "cell_type": "code",
   "execution_count": null,
   "metadata": {
    "collapsed": false,
    "scrolled": false
   },
   "outputs": [],
   "source": [
    "from ediblepickle import checkpoint\n",
    "\n",
    "\n",
    "@checkpoint(key='prop_sales_json.csv', work_dir='data', refresh=False)\n",
    "def request_records():\n",
    "  url = 'http://opendata.dc.gov/datasets/2acc75ccdd954267acecb8713b2b800a_28.geojson'\n",
    "  with requests.Session() as s:\n",
    "    resp = s.get(url)\n",
    "    try:\n",
    "        resp.raise_for_status()\n",
    "    except requests.exceptions.HTTPError as e:\n",
    "        print \"And you get an HTTPError:\", e.message\n",
    "  return resp.json()\n",
    "  \n",
    "  \n",
    "def build_df(resp_json):\n",
    "  keep_cols = [u'ADDRESS1',u'ADDRESS2',u'ANNUALTAX',u'ASSESSMENT',\n",
    "               u'BASEBUILD',u'BASELAND',u'CITYSTZIP',\n",
    "               u'HIGHNUMBER',u'HSTDCODE',u'LANDAREA',u'LOT',\n",
    "               u'LOWNUMBER',u'NBHD',\n",
    "               u'NEWIMPR',u'NEWLAND',u'NEWTOTAL',\n",
    "               u'OLDIMPR',u'OLDLAND',u'OLDTOTAL',u'OWNOCCT',\n",
    "               u'PREMISEADD',u'PROPTYPE',u'QDRNTNAME',u'SALEDATE',\n",
    "               u'SALEPRICE',u'SALETYPE',u'SQUARE',u'SSL',u'STREETCODE',u'STREETNAME',\n",
    "               u'SUBNBHD',u'coordinates']\n",
    "    \n",
    "  row_dicts = []\n",
    "  for feats in resp_json['features']:\n",
    "    try:\n",
    "      # get coordinates\n",
    "      row = dict(zip(['longitude','latitude'],feats['geometry']['coordinates']))\n",
    "    except:\n",
    "      continue\n",
    "    attrs = feats['properties'] # get select property attributes\n",
    "    row.update(dict(( (k,attrs.get(k,'')) for k in keep_cols )))\n",
    "    row_dicts.append(row)\n",
    "    \n",
    "  df = pd.DataFrame(row_dicts)\n",
    "  print df.columns\n",
    "\n",
    "  df['lat_lng'] = df.loc[:,('latitude','longitude')].apply(\n",
    "      lambda row: str(row[0])+','+str(row[1]),axis=1)\n",
    "\n",
    "  df.to_hdf('./data/df_cleaned_wo_amen.hd5','df')\n",
    "  \n",
    "\n",
    "if False:\n",
    "  resp_json = request_records()\n",
    "  print resp_json['features'][0]\n",
    "if False:\n",
    "  build_df(resp_json)"
   ]
  },
  {
   "cell_type": "markdown",
   "metadata": {
    "collapsed": false
   },
   "source": [
    "Only keep residential single family residences"
   ]
  },
  {
   "cell_type": "code",
   "execution_count": null,
   "metadata": {
    "collapsed": false
   },
   "outputs": [],
   "source": [
    "if False:\n",
    "  df = pd.read_hdf('./data/df_cleaned_wo_amen.hd5','df')\n",
    "  print df['PROPTYPE'].unique()\n",
    "  df = df.loc[df['PROPTYPE']==u'RESIDENTIAL-SINGLE FAMILY',:].copy()\n",
    "  print df['PROPTYPE'].unique()\n",
    "  df.to_hdf('./data/df_cleaned_res_only.hd5','df')\n"
   ]
  },
  {
   "cell_type": "markdown",
   "metadata": {},
   "source": [
    "Parse the zipcodes and remove zipcodes that aren't in DC"
   ]
  },
  {
   "cell_type": "code",
   "execution_count": null,
   "metadata": {
    "collapsed": false,
    "scrolled": true
   },
   "outputs": [],
   "source": [
    "from sklearn import cross_validation, grid_search, neighbors\n",
    "\n",
    "def zip_parser(x):\n",
    "  z = x.split()[-1][:5]\n",
    "  try:\n",
    "    zint = int(z)\n",
    "    if len(z) == 5:\n",
    "      return z\n",
    "    else:\n",
    "      return u''\n",
    "  except:\n",
    "    return u''\n",
    "  \n",
    "if False:\n",
    "  df = pd.read_hdf('./data/df_cleaned_res_only.hd5','df')\n",
    "  df['zipcode'] = df.CITYSTZIP.map(lambda r: zip_parser(r))\n",
    "\n",
    "  #print df.zipcode.unique()\n",
    "\n",
    "  # extract zips from CITYSTZIP column\n",
    "  df['zipcode'] = df.CITYSTZIP.map(lambda r: zip_parser(r))\n",
    "  \n",
    "\n",
    "  # Use nearest neighbors to fill in missing\n",
    "  param_grid = {\"n_neighbors\": range(4,10)}\n",
    "  zip_model = grid_search.GridSearchCV( neighbors.KNeighborsClassifier(),\n",
    "                  param_grid=param_grid,\n",
    "                  cv=cross_validation.ShuffleSplit(len(df.index), n_iter=20, \n",
    "                      test_size=0.2,random_state=42) )\n",
    "\n",
    "  zip_model.fit(df[['latitude','longitude']],df['zipcode'])\n",
    "  for key in param_grid.keys():\n",
    "    grid_score_plotter(zip_model,key)\n",
    "\n",
    "  badzip = df.zipcode==''\n",
    "  df.loc[badzip,'zipcode'] = zip_model.predict(df.loc[badzip,('latitude','longitude')])\n",
    "  \n",
    "  df.to_hdf('./data/df_cleaned_zipcodes.hd5','df')\n"
   ]
  },
  {
   "cell_type": "markdown",
   "metadata": {},
   "source": [
    "# Google Maps Places API"
   ]
  },
  {
   "cell_type": "markdown",
   "metadata": {},
   "source": [
    "Here, property sale locations are queried for nearby amenities. API requests were made once offline and pickled. Data for each lat_lng pair were stored as dict. \n",
    "\n",
    "Create a df column showing amenity_price_rating numbers for the top 20 hits within 1000m of the property"
   ]
  },
  {
   "cell_type": "code",
   "execution_count": null,
   "metadata": {
    "collapsed": false
   },
   "outputs": [],
   "source": [
    "if True:\n",
    "  #df = pd.read_hdf('./data/df_cleaned_zipcodes.hd5','df')\n",
    "  df = pd.read_hdf('./data/df_w_amen.hd5','df')\n"
   ]
  },
  {
   "cell_type": "code",
   "execution_count": null,
   "metadata": {
    "collapsed": false
   },
   "outputs": [],
   "source": [
    "if True:\n",
    "  df = df.iloc[:15,:].copy()\n",
    "  df.reset_index(inplace=True)"
   ]
  },
  {
   "cell_type": "code",
   "execution_count": null,
   "metadata": {
    "collapsed": false
   },
   "outputs": [],
   "source": [
    "len(df.columns)"
   ]
  },
  {
   "cell_type": "code",
   "execution_count": null,
   "metadata": {
    "collapsed": false
   },
   "outputs": [],
   "source": [
    "df['lat_lng'][0]"
   ]
  },
  {
   "cell_type": "code",
   "execution_count": null,
   "metadata": {
    "collapsed": true
   },
   "outputs": [],
   "source": [
    "import simplejson as json\n",
    "import pandas as pd\n",
    "from requests import Request, Sessio\n",
    "from requests_futures.sessions import FuturesSession\n",
    "from collections import namedtuple\n",
    "import operator\n",
    "import time\n",
    "\n",
    "\n",
    "# Read in all API keys\n",
    "with open(\"../secrets/google_secrets.json.nogit\") as fh: \n",
    "  secrets = json.loads(fh.read())\n",
    "google_api_key = secrets['server_api_key']\n",
    "\n",
    "Summary = namedtuple('Summary',['count','count_rating','sum_rating','sum_rating_sq',\n",
    "                               'count_price_level','sum_price_level','sum_price_level_sq'])\n",
    "\n",
    "def google_places_parser(sess,resp):\n",
    "  \n",
    "  if False:\n",
    "    print resp.json()['results'][0]\n",
    "  \n",
    "  count = 0\n",
    "  count_rating = 0\n",
    "  sum_rating = 0\n",
    "  sum_rating_sq = 0\n",
    "  count_price_level = 0\n",
    "  sum_price_level = 0\n",
    "  sum_price_level_sq = 0\n",
    "\n",
    "  for r in resp.json()['results']:\n",
    "    rating = r.get('rating')\n",
    "    if rating:\n",
    "      count_rating += 1\n",
    "      sum_rating += float(rating)\n",
    "      sum_rating_sq += float(rating)**2\n",
    "\n",
    "    price_level = r.get('price_level')\n",
    "    if price_level:\n",
    "      count_price_level += 1\n",
    "      sum_price_level += float(price_level)    \n",
    "      sum_price_level_sq += float(price_level)**2    \n",
    "    \n",
    "    count += 1\n",
    "\n",
    "  summary = Summary(count,count_rating,sum_rating,sum_rating_sq,\n",
    "                   count_price_level,sum_price_level,sum_price_level_sq)\n",
    "\n",
    "  resp.data = {'next_page_token':resp.json().get('next_page_token',''),\n",
    "               'summary':summary}\n",
    "\n",
    "\n",
    "def make_urls(npt_ll_series,amen_query):\n",
    "  base_url = \"https://maps.googleapis.com/maps/api/place/nearbysearch/json\"\n",
    "  s = Session()\n",
    "  \n",
    "  urls = []\n",
    "  for row in npt_ll_series:\n",
    "    npt, ll = row\n",
    "    if npt == '':\n",
    "      search_payload = {\"key\":google_api_key,\n",
    "                        \"radius\":1000,\n",
    "                        \"types\":amen_query,\n",
    "                        \"location\":ll}\n",
    "    else:\n",
    "      '''Including a page token forces Google to ignore all other\n",
    "      search parameters'''\n",
    "      search_payload = {\"key\":google_api_key,\n",
    "                        'pagetoken':npt}\n",
    "\n",
    "    req = Request('GET', base_url, params=search_payload)\n",
    "\n",
    "    urls.append(s.prepare_request(req).url)\n",
    "  \n",
    "  return urls"
   ]
  },
  {
   "cell_type": "code",
   "execution_count": null,
   "metadata": {
    "collapsed": false
   },
   "outputs": [],
   "source": [
    "# Build up the dataframe\n",
    "from itertools import izip\n",
    "\n",
    "session = FuturesSession(max_workers=7)\n",
    "\n",
    "start_time = time.time()\n",
    "for k in range(10,4,-1):\n",
    "  amenity = AMENITY_TYPES[k]\n",
    "  df['next_page_token'] = ''\n",
    "  df[amenity] = df.apply(lambda _: Summary(0,0,0,0,0,0,0),axis=1)kkkjjj\n",
    "  get_more = df.index\n",
    "  \n",
    "  for i in xrange(3):\n",
    "    urls = make_urls(df.ix[get_more,('next_page_token','lat_lng')].as_matrix(),amenity)    \n",
    "    results = (session.get(url,background_callback=google_places_parser) \n",
    "               for url in urls)\n",
    "    outputs = ((x.result().data['next_page_token'],x.result().data['summary']) \n",
    "               for x in results)\n",
    "\n",
    "    npts,summaries = izip(*outputs)\n",
    "    df.ix[get_more,amenity] = pd.Series((Summary(*map(operator.add,x[0],x[1]))\n",
    "                                for x in izip(df.ix[get_more,amenity],summaries)),index=get_more)\n",
    "    df.ix[get_more,\"next_page_token\"] = npts\n",
    "\n",
    "    get_more = df.index[df.next_page_token != '']\n",
    "    \n",
    "    print i,len(get_more)\n",
    "    if len(get_more) == 0:\n",
    "      break\n",
    "    time.sleep(2) # delay because next page is not immediately available\n",
    "  \n",
    "  if True:\n",
    "    df.to_hdf('./data/df_w_amen.hd5','df')\n",
    "    \n",
    "print(\"--- %s seconds ---\" % (time.time() - start_time))\n",
    "\n"
   ]
  },
  {
   "cell_type": "code",
   "execution_count": null,
   "metadata": {
    "collapsed": false
   },
   "outputs": [],
   "source": []
  },
  {
   "cell_type": "markdown",
   "metadata": {},
   "source": [
    "### Find count and mean of each amenity ###"
   ]
  },
  {
   "cell_type": "code",
   "execution_count": null,
   "metadata": {
    "collapsed": false,
    "scrolled": true
   },
   "outputs": [],
   "source": [
    "AMENITY_TYPES"
   ]
  },
  {
   "cell_type": "code",
   "execution_count": null,
   "metadata": {
    "collapsed": false
   },
   "outputs": [],
   "source": [
    "if True:`\n",
    "  df = pd.read_hdf('./data/df_w_amen.hd5','df')\n"
   ]
  },
  {
   "cell_type": "code",
   "execution_count": null,
   "metadata": {
    "collapsed": true
   },
   "outputs": [],
   "source": [
    "if True:\n",
    "  df = df.sample(100).copy()\n"
   ]
  },
  {
   "cell_type": "code",
   "execution_count": null,
   "metadata": {
    "collapsed": false
   },
   "outputs": [],
   "source": [
    "len(df.index)"
   ]
  },
  {
   "cell_type": "code",
   "execution_count": null,
   "metadata": {
    "collapsed": false
   },
   "outputs": [],
   "source": [
    "for amenity in AMENITY_TYPES:\n",
    "  sum_cols = ['count','count_rating','mean_rating','std_rating',\n",
    "              'count_price_level','mean_price_level','std_price_level']\n",
    "  df = pd.concat( [df,pd.DataFrame.from_records(\n",
    "                      df[amenity].map(lambda x: summarizer(x)).tolist(),\n",
    "                      columns=[amenity + '_' + s for s in sum_cols],\n",
    "                      index=df.index)], axis = 1\n",
    "            )"
   ]
  },
  {
   "cell_type": "code",
   "execution_count": null,
   "metadata": {
    "collapsed": false
   },
   "outputs": [],
   "source": [
    "if True:\n",
    "  df.to_hdf('./data/df_w_amen_flat.hd5','df')"
   ]
  },
  {
   "cell_type": "markdown",
   "metadata": {},
   "source": [
    "#Visualize the data"
   ]
  },
  {
   "cell_type": "code",
   "execution_count": null,
   "metadata": {
    "collapsed": false
   },
   "outputs": [],
   "source": []
  },
  {
   "cell_type": "code",
   "execution_count": null,
   "metadata": {
    "collapsed": false
   },
   "outputs": [],
   "source": [
    "if True:\n",
    "  df = pd.read_hdf('./data/df_w_amen_flat.hd5','df')\n",
    "df = df.loc[df.zipcode.map(lambda x: x in valid_zipcodes),:]"
   ]
  },
  {
   "cell_type": "code",
   "execution_count": null,
   "metadata": {
    "collapsed": false
   },
   "outputs": [],
   "source": []
  },
  {
   "cell_type": "code",
   "execution_count": null,
   "metadata": {
    "collapsed": false
   },
   "outputs": [],
   "source": []
  },
  {
   "cell_type": "code",
   "execution_count": null,
   "metadata": {
    "collapsed": false,
    "scrolled": true
   },
   "outputs": [],
   "source": [
    "df[ \n",
    "  ['zipcode','SALEPRICE'] \n",
    "   + [col for col in df.columns if '_count' in col and '_count_' not in col]\n",
    "   + [col for col in df.columns if 'mean_rating' in col or 'mean_price' in col]\n",
    "  ].groupby('zipcode').mean().to_csv('./data/mean_by_zip_04.csv')"
   ]
  },
  {
   "cell_type": "code",
   "execution_count": null,
   "metadata": {
    "collapsed": true
   },
   "outputs": [],
   "source": [
    "zip_json = requests.get('http://opendata.dc.gov/datasets/5637d4bb43a34668b19fe630120d2b70_4.geojson')"
   ]
  },
  {
   "cell_type": "code",
   "execution_count": null,
   "metadata": {
    "collapsed": false
   },
   "outputs": [],
   "source": [
    "coords = []\n",
    "for row in zip_json.json()['features']:\n",
    "  coords.append(row['geometry'])"
   ]
  },
  {
   "cell_type": "code",
   "execution_count": null,
   "metadata": {
    "collapsed": false,
    "scrolled": true
   },
   "outputs": [],
   "source": [
    "coords"
   ]
  },
  {
   "cell_type": "code",
   "execution_count": null,
   "metadata": {
    "collapsed": false,
    "scrolled": true
   },
   "outputs": [],
   "source": [
    "pd.DataFrame(zip_json.json()['features'])"
   ]
  },
  {
   "cell_type": "code",
   "execution_count": null,
   "metadata": {
    "collapsed": false
   },
   "outputs": [],
   "source": [
    "df_zip = pd.read_json('http://opendata.dc.gov/datasets/5637d4bb43a34668b19fe630120d2b70_4.geojson')"
   ]
  },
  {
   "cell_type": "code",
   "execution_count": null,
   "metadata": {
    "collapsed": false,
    "scrolled": true
   },
   "outputs": [],
   "source": [
    "df_zip"
   ]
  },
  {
   "cell_type": "code",
   "execution_count": null,
   "metadata": {
    "collapsed": false
   },
   "outputs": [],
   "source": [
    "df_mean_count = df.groupby('zipcode')[['SALEPRICE']+[col for col in df.columns if '_count' in col and '_count_' not in col]].mean()"
   ]
  },
  {
   "cell_type": "code",
   "execution_count": null,
   "metadata": {
    "collapsed": false,
    "scrolled": false
   },
   "outputs": [],
   "source": [
    "df_mean_count.loc['20008',[col for col in df_mean_count.columns if col != 'SALEPRICE']].plot(kind='barh')\n"
   ]
  },
  {
   "cell_type": "code",
   "execution_count": null,
   "metadata": {
    "collapsed": false
   },
   "outputs": [],
   "source": [
    "from bokeh.plotting import figure, show\n",
    "from bokeh.io import output_notebook\n",
    "from bokeh.models import FixedTicker\n",
    "\n",
    "output_notebook()"
   ]
  },
  {
   "cell_type": "code",
   "execution_count": null,
   "metadata": {
    "collapsed": false
   },
   "outputs": [],
   "source": []
  },
  {
   "cell_type": "markdown",
   "metadata": {},
   "source": [
    "```python\n",
    "from bokeh.plotting import figure, show\n",
    "from bokeh.models import Range1d\n",
    "\n",
    "TOOLS=\"crosshair,pan,box_zoom,reset,box_select,lasso_select\"\n",
    "\n",
    "xlabel = 'Average Number of Amenities with 1km Radius'\n",
    "ylabel = ''\n",
    "\n",
    "this_row = df_mean_count.loc['20008',:]\n",
    "p = figure(width=800, height=600, y_range=this_row.index.tolist(), tools=TOOLS)\n",
    "\n",
    "p.background_fill = \"#EAEAF2\"\n",
    "\n",
    "p.grid.grid_line_alpha=1.0\n",
    "p.grid.grid_line_color = \"white\"\n",
    "\n",
    "p.xaxis.axis_label = xlabel\n",
    "p.xaxis.axis_label_text_font_size = '14pt'\n",
    "p.xaxis.major_label_text_font_size = '14pt'\n",
    "p.x_range = Range1d(0,50)\n",
    "#p.xaxis[0].ticker=FixedTicker(ticks=[i for i in xrange(0,5,1)])\n",
    "\n",
    "p.yaxis.major_label_text_font_size = '14pt'\n",
    "p.yaxis.axis_label = ylabel\n",
    "\n",
    "p.yaxis.axis_label_text_font_size = '14pt'\n",
    "\n",
    "\n",
    "j = 1\n",
    "for k,v in this_row.iteritems():\n",
    "  print k,v,j\n",
    "  p.rect(x=v/2, y=j, width=v, height=0.4,color=(76,114,176),\n",
    "    width_units=\"data\", height_units=\"data\")\n",
    "  j += 1\n",
    "\n",
    "show(p)\n",
    "```"
   ]
  },
  {
   "cell_type": "markdown",
   "metadata": {},
   "source": [
    "##Single Series bar chart"
   ]
  },
  {
   "cell_type": "code",
   "execution_count": null,
   "metadata": {
    "collapsed": false
   },
   "outputs": [],
   "source": [
    "from bokeh.plotting import figure, show\n",
    "from bokeh.models import Range1d\n",
    "\n",
    "TOOLS=\"crosshair,pan,box_zoom,reset,box_select,lasso_select\"\n",
    "\n",
    "xlabel = 'Average Number of Amenities with 1km Radius'\n",
    "ylabel = ''\n",
    "\n",
    "this_row = df_mean_count.loc['20008',:]\n",
    "p = figure(width=800, height=600, y_range=this_row.index.tolist(), tools=TOOLS)\n",
    "\n",
    "p.background_fill = \"#EAEAF2\"\n",
    "\n",
    "p.grid.grid_line_alpha=1.0\n",
    "p.grid.grid_line_color = \"white\"\n",
    "\n",
    "p.xaxis.axis_label = xlabel\n",
    "p.xaxis.axis_label_text_font_size = '14pt'\n",
    "p.xaxis.major_label_text_font_size = '14pt'\n",
    "p.x_range = Range1d(0,50)\n",
    "#p.xaxis[0].ticker=FixedTicker(ticks=[i for i in xrange(0,5,1)])\n",
    "\n",
    "p.yaxis.major_label_text_font_size = '14pt'\n",
    "p.yaxis.axis_label = ylabel\n",
    "p.yaxis.axis_label_text_font_size = '14pt'\n",
    "\n",
    "j = 1\n",
    "for k,v in this_row.iteritems():\n",
    "  print k,v,j\n",
    "  p.rect(x=v/2, y=j, width=abs(v), height=0.4,color=(76,114,176),\n",
    "    width_units=\"data\", height_units=\"data\")\n",
    "  j += 1\n",
    "\n",
    "show(p)"
   ]
  },
  {
   "cell_type": "code",
   "execution_count": null,
   "metadata": {
    "collapsed": false
   },
   "outputs": [],
   "source": []
  },
  {
   "cell_type": "code",
   "execution_count": null,
   "metadata": {
    "collapsed": false
   },
   "outputs": [],
   "source": [
    "p.x_range?"
   ]
  },
  {
   "cell_type": "code",
   "execution_count": null,
   "metadata": {
    "collapsed": false
   },
   "outputs": [],
   "source": []
  },
  {
   "cell_type": "code",
   "execution_count": null,
   "metadata": {
    "collapsed": false
   },
   "outputs": [],
   "source": [
    "df = pd.DataFrame( \n",
    "  {'SALEPRICE': {'20008': 901813.09850746265},\n",
    "  'bakery_count': {'20008': 6.2850746268656712},\n",
    "  'bar_count': {'20008': 25.435820895522387},\n",
    "  'cafe_count': {'20008': 13.088059701492538},\n",
    "  'grocery_or_supermarket_count': {'20008': 8.7253731343283576},\n",
    "  'movie_theater_count': {'20008': 1.1417910447761195},\n",
    "  'park_count': {'20008': 8.4074626865671647},\n",
    "  'pharmacy_count': {'20008': 8.071641791044776},\n",
    "  'restaurant_count': {'20008': 43.562686567164178},\n",
    "  'school_count': {'20008': 18.622388059701493},\n",
    "  'spa_count': {'20008': 6.4850746268656714},\n",
    "  'subway_station_count': {'20008': 1.6850746268656716}} \n",
    "  )\n",
    "df"
   ]
  },
  {
   "cell_type": "code",
   "execution_count": null,
   "metadata": {
    "collapsed": false
   },
   "outputs": [],
   "source": [
    "this_df.loc['20009',:].to_dict()"
   ]
  },
  {
   "cell_type": "code",
   "execution_count": null,
   "metadata": {
    "collapsed": false
   },
   "outputs": [],
   "source": [
    "def parse_column_name():\n",
    "  '''Prepare the data to plot from the database'''\n",
    "  this_df = pd.DataFrame(\n",
    "    {'SALEPRICE': {'20008': 901813.09850746265},\n",
    "    'bakery_count': {'20008': 6.2850746268656712},\n",
    "    'bar_count': {'20008': 25.435820895522387},\n",
    "    'cafe_count': {'20008': 13.088059701492538},\n",
    "    'grocery_or_supermarket_count': {'20008': 8.7253731343283576},\n",
    "    'movie_theater_count': {'20008': 1.1417910447761195},\n",
    "    'park_count': {'20008': 8.4074626865671647},\n",
    "    'pharmacy_count': {'20008': 8.071641791044776},\n",
    "    'restaurant_count': {'20008': 43.562686567164178},\n",
    "    'school_count': {'20008': 18.622388059701493},\n",
    "    'spa_count': {'20008': 6.4850746268656714},\n",
    "    'subway_station_count': {'20008': 1.6850746268656716}}\n",
    "    )\n",
    "\n",
    "\n",
    "  return this_df.append(\n",
    "      pd.DataFrame.from_dict(\n",
    "        {'query':\n",
    "          {'SALEPRICE': 966153.51489868888,\n",
    "          'bakery_count': 18.389749702026222,\n",
    "          'bar_count': 56.282479141835516,\n",
    "          'cafe_count': 41.280691299165674,\n",
    "          'grocery_or_supermarket_count': 30.650774731823599,\n",
    "          'movie_theater_count': 1.3510131108462455,\n",
    "          'park_count': 19.90405244338498,\n",
    "          'pharmacy_count': 23.856376638855782,\n",
    "          'restaurant_count': 58.564362336114421,\n",
    "          'school_count': 45.101907032181167,\n",
    "          'spa_count': 16.930274135876044,\n",
    "          'subway_station_count': 2.3134684147794995}\n",
    "          }, orient='index')"
   ]
  },
  {
   "cell_type": "code",
   "execution_count": null,
   "metadata": {
    "collapsed": false
   },
   "outputs": [],
   "source": [
    "pd.DataFrame.from_dict({'query':{'SALEPRICE':100,'bar_count':50}},orient='index')"
   ]
  },
  {
   "cell_type": "code",
   "execution_count": null,
   "metadata": {
    "collapsed": false
   },
   "outputs": [],
   "source": [
    "df.append(pd.DataFrame.from_dict({'query':{'SALEPRICE':100,'bar_count':50}},orient='index'))"
   ]
  },
  {
   "cell_type": "code",
   "execution_count": null,
   "metadata": {
    "collapsed": false,
    "scrolled": true
   },
   "outputs": [],
   "source": [
    "from bokeh.plotting import figure, show\n",
    "from bokeh.models import Range1d, LinearAxis, LogAxis\n",
    "\n",
    "TOOLS=\"crosshair,pan,box_zoom,reset,box_select,lasso_select\"\n",
    "\n",
    "\n",
    "this_df = df_mean_count.loc[['20008','20009'],:]\n",
    "p = figure(width=800, height=600, y_range=[col for col in reversed(this_df.columns.tolist())],\n",
    "           tools=TOOLS)\n",
    "\n",
    "# Set y axis properties\n",
    "p.yaxis.axis_label = 'Amenity type'\n",
    "p.yaxis.axis_label_text_font_size = '12pt'\n",
    "p.yaxis.major_label_text_font_size = '12pt'\n",
    "\n",
    "# Set primary x axis properties\n",
    "p.xaxis.axis_label = 'Average Number of Amenities within 1km Radius'\n",
    "p.xaxis.axis_label_text_font_size = '12pt'\n",
    "p.xaxis.major_label_text_font_size = '12pt'\n",
    "p.x_range = Range1d(0,60)\n",
    "\n",
    "# Setting the second x axis range name and range\n",
    "p.extra_x_ranges ={\"saleprice\": Range1d(start=0, end=10)}\n",
    "\n",
    "# Adding the second axis to the plot.  \n",
    "p.add_layout(LinearAxis(x_range_name=\"saleprice\",\n",
    "            axis_label='Sale price / $100,000',axis_label_text_font_size = '12pt'), 'above')\n",
    "                  \n",
    "                  \n",
    "# Make background and grid look like seaborn\n",
    "p.background_fill = \"#EAEAF2\"\n",
    "p.grid.grid_line_alpha = 1.0\n",
    "p.grid.grid_line_color = \"white\"\n",
    "\n",
    "\n",
    "height = 0.4\n",
    "offsets = np.linspace(-0.5,0.5,2)*height\n",
    "colors = [(76,114,176),(253,141,60)]\n",
    "j = len(this_df.columns)\n",
    "for k,v in this_df.iteritems():\n",
    "  print k,v.tolist()\n",
    "  if k == 'SALEPRICE':\n",
    "    x_range_name = 'saleprice'\n",
    "    v /= 100000\n",
    "  else:\n",
    "    x_range_name = None\n",
    "\n",
    "  for i in xrange(0,2):\n",
    "    p.rect(x=v[i]/2, y=j+offsets[i], width=abs(v[i]), height=height, color=colors[i],\n",
    "      width_units=\"data\", height_units=\"data\",x_range_name=x_range_name)\n",
    "  j -= 1\n",
    "  \n",
    "\n",
    "show(p)"
   ]
  },
  {
   "cell_type": "code",
   "execution_count": null,
   "metadata": {
    "collapsed": false
   },
   "outputs": [],
   "source": []
  },
  {
   "cell_type": "code",
   "execution_count": null,
   "metadata": {
    "collapsed": false
   },
   "outputs": [],
   "source": [
    "\n"
   ]
  },
  {
   "cell_type": "code",
   "execution_count": null,
   "metadata": {
    "collapsed": true
   },
   "outputs": [],
   "source": [
    "def hist_plotter(df,cols,prefix=None,xlim=None):\n",
    "  for attr in cols:\n",
    "    plt.figure(figsize=(4,3))\n",
    "    \n",
    "    try:\n",
    "      df[attr].hist(bins=np.linspace(xlim[0],xlim[1],21))\n",
    "    except:\n",
    "      pass\n",
    "    plt.xlabel(attr)\n",
    "    plt.ylabel('Number of sale locations')\n",
    "    plt.xlim(xlim)\n",
    "    plt.tight_layout()\n",
    "    plt.savefig('./static/images/'+attr+'.png',frameon=False,dpi=450,pad_inches=0.1)"
   ]
  },
  {
   "cell_type": "code",
   "execution_count": null,
   "metadata": {
    "collapsed": false
   },
   "outputs": [],
   "source": [
    "hist_plotter(df,(col for col in df.columns if '_count' in col and '_count_' not in col),\n",
    "             prefix='count_',xlim=(0,60))\n",
    "hist_plotter(df,(col for col in df.columns if '_mean_rating' in col),\n",
    "             prefix='rating_',xlim=(0,5))\n",
    "hist_plotter(df,(col for col in df.columns if '_mean_price_level' in col),\n",
    "             prefix='price_', xlim=(0,5))\n"
   ]
  },
  {
   "cell_type": "code",
   "execution_count": null,
   "metadata": {
    "collapsed": false
   },
   "outputs": [],
   "source": [
    "df"
   ]
  },
  {
   "cell_type": "code",
   "execution_count": null,
   "metadata": {
    "collapsed": false
   },
   "outputs": [],
   "source": [
    "def scatter_plotter(df,attr,title=None):\n",
    "  df.plot(kind='scatter',x=attr,y='SALEPRICE',figsize=(4,3))\n",
    "  plt.xlabel(attr)\n",
    "  plt.yscale('log')\n",
    "  plt.title(title)"
   ]
  },
  {
   "cell_type": "code",
   "execution_count": null,
   "metadata": {
    "collapsed": false
   },
   "outputs": [],
   "source": [
    "for name, group in df.groupby('zipcode'):\n",
    "  #print name, len(group.index)\n",
    "  if len(group.index)>5:\n",
    "    scatter_plotter(group,'grocery_or_supermarket_mean_rating',name)"
   ]
  },
  {
   "cell_type": "code",
   "execution_count": null,
   "metadata": {
    "collapsed": false
   },
   "outputs": [],
   "source": [
    "scatter_plotter(group,'cafe_count')"
   ]
  },
  {
   "cell_type": "markdown",
   "metadata": {},
   "source": [
    "#Do some modeling"
   ]
  },
  {
   "cell_type": "code",
   "execution_count": null,
   "metadata": {
    "collapsed": false
   },
   "outputs": [],
   "source": [
    "if False:\n",
    "  df = pd.read_hdf('./data/df_w_amen_flat.hd5','df')\n",
    "  df = df.loc[df.zipcode.map(lambda x: x in valid_zipcodes),:]\n",
    "\n",
    "  stats_cols = ([col for col in df.columns if '_count' in col and '_count_' not in col]\n",
    "            + [col for col in df.columns if 'mean_rating' in col and 'count' not in col]\n",
    "            + [col for col in df.columns if 'mean_price_level' in col and 'count' not in col])\n",
    "  col_list = ['SALEPRICE','latitude','longitude','LANDAREA','zipcode']+stats_cols\n",
    "  df = df[col_list]\n",
    "  df = df.fillna(df.mean())\n",
    "  df = df.loc[:,np.logical_not(np.isnan(df.mean()))]\n",
    "  new_col_list = [col for col in df.columns if col in col_list]\n",
    "  new_stats_cols = [col for col in df.columns if col in stats_cols]\n",
    "  df = df.loc[:,new_col_list]\n",
    "  df.to_csv('./data/df_features.csv')"
   ]
  },
  {
   "cell_type": "code",
   "execution_count": 74,
   "metadata": {
    "collapsed": false,
    "scrolled": true
   },
   "outputs": [],
   "source": [
    "from pandas.tools.plotting import scatter_matrix\n",
    "\n",
    "df = pd.read_csv('./data/df_features.csv')\n",
    "count_cols = [c for c in df.columns if '_count' in c and '_count_' not in c]\n",
    "rating_cols = [c for c in df.columns if '_mean_rating' in c]\n",
    "price_cols = [c for c in df.columns if '_mean_price' in c]\n",
    "lat_lng_cols = ['latitude','longitude']\n",
    "\n",
    "#scatter_matrix(df[count_cols].sample(500),figsize=(11,11))"
   ]
  },
  {
   "cell_type": "code",
   "execution_count": null,
   "metadata": {
    "collapsed": true
   },
   "outputs": [],
   "source": [
    "def plot_corr(df,size=10):\n",
    "    '''Function plots a graphical correlation matrix for each pair of columns in the dataframe.\n",
    "\n",
    "    Input:\n",
    "        df: pandas DataFrame\n",
    "        size: vertical and horizontal size of the plot'''\n",
    "\n",
    "    corr = df.corr()\n",
    "    fig, ax = plt.subplots(figsize=(size, size))\n",
    "    ax.matshow(corr)\n",
    "    plt.xticks(range(len(corr.columns)), corr.columns);\n",
    "    plt.yticks(range(len(corr.columns)), corr.columns);"
   ]
  },
  {
   "cell_type": "code",
   "execution_count": null,
   "metadata": {
    "collapsed": false
   },
   "outputs": [],
   "source": [
    "plot_corr(df[count_cols])"
   ]
  },
  {
   "cell_type": "code",
   "execution_count": null,
   "metadata": {
    "collapsed": false
   },
   "outputs": [],
   "source": [
    "df[count_cols].corr().to_html('./templates/count_corr.html')\n",
    "df[count_cols].corr()"
   ]
  },
  {
   "cell_type": "code",
   "execution_count": null,
   "metadata": {
    "collapsed": false
   },
   "outputs": [],
   "source": [
    "from itertools import repeat\n",
    "dict(zip(rating_cols,repeat('%2.2f')))"
   ]
  },
  {
   "cell_type": "code",
   "execution_count": null,
   "metadata": {
    "collapsed": false
   },
   "outputs": [],
   "source": [
    "def fmtter(x):\n",
    "  return '%2.2f' % 3.5"
   ]
  },
  {
   "cell_type": "code",
   "execution_count": null,
   "metadata": {
    "collapsed": false
   },
   "outputs": [],
   "source": [
    "np.linspace(-1,1,8)"
   ]
  },
  {
   "cell_type": "code",
   "execution_count": null,
   "metadata": {
    "collapsed": false
   },
   "outputs": [],
   "source": [
    "['rgb(%d,%d,%d)'% tuple(el) for el in (255*np.array(sns.color_palette(\"coolwarm\", 7))).astype(np.int32).tolist()]"
   ]
  },
  {
   "cell_type": "code",
   "execution_count": null,
   "metadata": {
    "collapsed": false
   },
   "outputs": [],
   "source": [
    "AMENITY_TYPES"
   ]
  },
  {
   "cell_type": "code",
   "execution_count": null,
   "metadata": {
    "collapsed": false
   },
   "outputs": [],
   "source": [
    "def renamer(x):\n",
    "  if 'SALEPRICE' in x: return 'Price'\n",
    "  elif 'bar_' in x: return 'Bars'\n",
    "  elif 'bakery_' in x: return 'Bakeries'\n",
    "  elif 'cafe_' in x: return 'Cafes'\n",
    "  elif 'grocery_' in x: return 'Groceries'\n",
    "  elif 'movie_' in x: return 'Movies'\n",
    "  elif 'park_' in x: return 'Parks'\n",
    "  elif 'pharmacy_' in x: return 'Pharmacies'\n",
    "  elif 'restaurant_' in x: return 'Restaurants'\n",
    "  elif 'school_' in x: return 'Schools'\n",
    "  elif 'spa_' in x: return 'Spas'\n",
    "  elif 'subway_' in x: return 'Metros'\n",
    "  \n",
    "def formatter(x):\n",
    "  return '%2.2f'%x"
   ]
  },
  {
   "cell_type": "code",
   "execution_count": null,
   "metadata": {
    "collapsed": false,
    "scrolled": true
   },
   "outputs": [],
   "source": [
    "df.columns"
   ]
  },
  {
   "cell_type": "code",
   "execution_count": null,
   "metadata": {
    "collapsed": false
   },
   "outputs": [],
   "source": [
    "df[['SALEPRICE']+count_cols].rename(columns=renamer).corr().to_html('./templates/count_corr.html',\n",
    "                               formatters=[lambda x: '%2.2f'%x]*(len(count_cols)+1))\n",
    "df[['SALEPRICE']+count_cols].rename(columns=renamer).corr()"
   ]
  },
  {
   "cell_type": "code",
   "execution_count": null,
   "metadata": {
    "collapsed": false
   },
   "outputs": [],
   "source": [
    "['SALEPRICE']+rating_cols"
   ]
  },
  {
   "cell_type": "code",
   "execution_count": null,
   "metadata": {
    "collapsed": false
   },
   "outputs": [],
   "source": [
    "df[['SALEPRICE']+rating_cols].rename(columns=renamer).corr().to_html('./templates/rating_corr.html',\n",
    "                               formatters=[lambda x: '%2.2f'%x]*(len(rating_cols)+1))\n",
    "df[['SALEPRICE']+rating_cols].rename(columns=renamer).corr()"
   ]
  },
  {
   "cell_type": "code",
   "execution_count": null,
   "metadata": {
    "collapsed": false
   },
   "outputs": [],
   "source": [
    "df[['SALEPRICE']+price_cols].rename(columns=renamer).corr().to_html('./templates/price_corr.html',\n",
    "                                   formatters=[lambda x: '%2.2f'%x]*(len(price_cols)+1))\n",
    "df[['SALEPRICE']+price_cols].rename(columns=renamer).corr()"
   ]
  },
  {
   "cell_type": "code",
   "execution_count": null,
   "metadata": {
    "collapsed": false
   },
   "outputs": [],
   "source": [
    "pd.concat?"
   ]
  },
  {
   "cell_type": "code",
   "execution_count": 27,
   "metadata": {
    "collapsed": true
   },
   "outputs": [
    {
     "data": {
      "text/html": [
       "<div>\n",
       "<table border=\"1\" class=\"dataframe\">\n",
       "  <thead>\n",
       "    <tr style=\"text-align: right;\">\n",
       "      <th></th>\n",
       "      <th>SALEPRICE</th>\n",
       "      <th>0</th>\n",
       "      <th>1</th>\n",
       "      <th>2</th>\n",
       "      <th>3</th>\n",
       "      <th>4</th>\n",
       "      <th>5</th>\n",
       "      <th>6</th>\n",
       "      <th>7</th>\n",
       "      <th>8</th>\n",
       "      <th>9</th>\n",
       "    </tr>\n",
       "  </thead>\n",
       "  <tbody>\n",
       "    <tr>\n",
       "      <th>SALEPRICE</th>\n",
       "      <td>1.000000</td>\n",
       "      <td>5.197293e-02</td>\n",
       "      <td>7.030126e-02</td>\n",
       "      <td>-2.561138e-03</td>\n",
       "      <td>-1.166630e-01</td>\n",
       "      <td>5.240946e-02</td>\n",
       "      <td>-4.956677e-02</td>\n",
       "      <td>1.251230e-01</td>\n",
       "      <td>6.539915e-02</td>\n",
       "      <td>-2.199234e-03</td>\n",
       "      <td>-3.937930e-02</td>\n",
       "    </tr>\n",
       "    <tr>\n",
       "      <th>0</th>\n",
       "      <td>0.051973</td>\n",
       "      <td>1.000000e+00</td>\n",
       "      <td>-1.381367e-14</td>\n",
       "      <td>-1.075540e-15</td>\n",
       "      <td>-4.953784e-15</td>\n",
       "      <td>4.623353e-15</td>\n",
       "      <td>5.697593e-14</td>\n",
       "      <td>1.060515e-14</td>\n",
       "      <td>3.198850e-15</td>\n",
       "      <td>1.188138e-14</td>\n",
       "      <td>-2.765305e-14</td>\n",
       "    </tr>\n",
       "    <tr>\n",
       "      <th>1</th>\n",
       "      <td>0.070301</td>\n",
       "      <td>-1.381367e-14</td>\n",
       "      <td>1.000000e+00</td>\n",
       "      <td>-2.276028e-15</td>\n",
       "      <td>1.779112e-15</td>\n",
       "      <td>-4.018164e-15</td>\n",
       "      <td>-1.364671e-14</td>\n",
       "      <td>-2.743205e-15</td>\n",
       "      <td>4.192934e-15</td>\n",
       "      <td>2.816453e-15</td>\n",
       "      <td>2.255128e-15</td>\n",
       "    </tr>\n",
       "    <tr>\n",
       "      <th>2</th>\n",
       "      <td>-0.002561</td>\n",
       "      <td>-1.075540e-15</td>\n",
       "      <td>-2.276028e-15</td>\n",
       "      <td>1.000000e+00</td>\n",
       "      <td>-1.567641e-15</td>\n",
       "      <td>1.236998e-15</td>\n",
       "      <td>1.126258e-14</td>\n",
       "      <td>2.250745e-15</td>\n",
       "      <td>-2.961028e-15</td>\n",
       "      <td>-2.114111e-15</td>\n",
       "      <td>-3.257824e-15</td>\n",
       "    </tr>\n",
       "    <tr>\n",
       "      <th>3</th>\n",
       "      <td>-0.116663</td>\n",
       "      <td>-4.953784e-15</td>\n",
       "      <td>1.779112e-15</td>\n",
       "      <td>-1.567641e-15</td>\n",
       "      <td>1.000000e+00</td>\n",
       "      <td>-7.090174e-16</td>\n",
       "      <td>-1.674712e-15</td>\n",
       "      <td>1.249961e-15</td>\n",
       "      <td>-1.263606e-16</td>\n",
       "      <td>-1.065453e-15</td>\n",
       "      <td>2.147597e-15</td>\n",
       "    </tr>\n",
       "    <tr>\n",
       "      <th>4</th>\n",
       "      <td>0.052409</td>\n",
       "      <td>4.623353e-15</td>\n",
       "      <td>-4.018164e-15</td>\n",
       "      <td>1.236998e-15</td>\n",
       "      <td>-7.090174e-16</td>\n",
       "      <td>1.000000e+00</td>\n",
       "      <td>4.601733e-15</td>\n",
       "      <td>-7.393086e-16</td>\n",
       "      <td>-4.441493e-16</td>\n",
       "      <td>2.092047e-15</td>\n",
       "      <td>-4.999144e-16</td>\n",
       "    </tr>\n",
       "    <tr>\n",
       "      <th>5</th>\n",
       "      <td>-0.049567</td>\n",
       "      <td>5.697593e-14</td>\n",
       "      <td>-1.364671e-14</td>\n",
       "      <td>1.126258e-14</td>\n",
       "      <td>-1.674712e-15</td>\n",
       "      <td>4.601733e-15</td>\n",
       "      <td>1.000000e+00</td>\n",
       "      <td>-5.339528e-15</td>\n",
       "      <td>-7.029173e-15</td>\n",
       "      <td>4.535638e-15</td>\n",
       "      <td>1.006466e-14</td>\n",
       "    </tr>\n",
       "    <tr>\n",
       "      <th>6</th>\n",
       "      <td>0.125123</td>\n",
       "      <td>1.060515e-14</td>\n",
       "      <td>-2.743205e-15</td>\n",
       "      <td>2.250745e-15</td>\n",
       "      <td>1.249961e-15</td>\n",
       "      <td>-7.393086e-16</td>\n",
       "      <td>-5.339528e-15</td>\n",
       "      <td>1.000000e+00</td>\n",
       "      <td>1.766451e-15</td>\n",
       "      <td>4.440958e-15</td>\n",
       "      <td>6.191108e-15</td>\n",
       "    </tr>\n",
       "    <tr>\n",
       "      <th>7</th>\n",
       "      <td>0.065399</td>\n",
       "      <td>3.198850e-15</td>\n",
       "      <td>4.192934e-15</td>\n",
       "      <td>-2.961028e-15</td>\n",
       "      <td>-1.263606e-16</td>\n",
       "      <td>-4.441493e-16</td>\n",
       "      <td>-7.029173e-15</td>\n",
       "      <td>1.766451e-15</td>\n",
       "      <td>1.000000e+00</td>\n",
       "      <td>-1.870944e-15</td>\n",
       "      <td>7.638994e-16</td>\n",
       "    </tr>\n",
       "    <tr>\n",
       "      <th>8</th>\n",
       "      <td>-0.002199</td>\n",
       "      <td>1.188138e-14</td>\n",
       "      <td>2.816453e-15</td>\n",
       "      <td>-2.114111e-15</td>\n",
       "      <td>-1.065453e-15</td>\n",
       "      <td>2.092047e-15</td>\n",
       "      <td>4.535638e-15</td>\n",
       "      <td>4.440958e-15</td>\n",
       "      <td>-1.870944e-15</td>\n",
       "      <td>1.000000e+00</td>\n",
       "      <td>1.234850e-16</td>\n",
       "    </tr>\n",
       "    <tr>\n",
       "      <th>9</th>\n",
       "      <td>-0.039379</td>\n",
       "      <td>-2.765305e-14</td>\n",
       "      <td>2.255128e-15</td>\n",
       "      <td>-3.257824e-15</td>\n",
       "      <td>2.147597e-15</td>\n",
       "      <td>-4.999144e-16</td>\n",
       "      <td>1.006466e-14</td>\n",
       "      <td>6.191108e-15</td>\n",
       "      <td>7.638994e-16</td>\n",
       "      <td>1.234850e-16</td>\n",
       "      <td>1.000000e+00</td>\n",
       "    </tr>\n",
       "  </tbody>\n",
       "</table>\n",
       "</div>"
      ],
      "text/plain": [
       "           SALEPRICE             0             1             2             3  \\\n",
       "SALEPRICE   1.000000  5.197293e-02  7.030126e-02 -2.561138e-03 -1.166630e-01   \n",
       "0           0.051973  1.000000e+00 -1.381367e-14 -1.075540e-15 -4.953784e-15   \n",
       "1           0.070301 -1.381367e-14  1.000000e+00 -2.276028e-15  1.779112e-15   \n",
       "2          -0.002561 -1.075540e-15 -2.276028e-15  1.000000e+00 -1.567641e-15   \n",
       "3          -0.116663 -4.953784e-15  1.779112e-15 -1.567641e-15  1.000000e+00   \n",
       "4           0.052409  4.623353e-15 -4.018164e-15  1.236998e-15 -7.090174e-16   \n",
       "5          -0.049567  5.697593e-14 -1.364671e-14  1.126258e-14 -1.674712e-15   \n",
       "6           0.125123  1.060515e-14 -2.743205e-15  2.250745e-15  1.249961e-15   \n",
       "7           0.065399  3.198850e-15  4.192934e-15 -2.961028e-15 -1.263606e-16   \n",
       "8          -0.002199  1.188138e-14  2.816453e-15 -2.114111e-15 -1.065453e-15   \n",
       "9          -0.039379 -2.765305e-14  2.255128e-15 -3.257824e-15  2.147597e-15   \n",
       "\n",
       "                      4             5             6             7  \\\n",
       "SALEPRICE  5.240946e-02 -4.956677e-02  1.251230e-01  6.539915e-02   \n",
       "0          4.623353e-15  5.697593e-14  1.060515e-14  3.198850e-15   \n",
       "1         -4.018164e-15 -1.364671e-14 -2.743205e-15  4.192934e-15   \n",
       "2          1.236998e-15  1.126258e-14  2.250745e-15 -2.961028e-15   \n",
       "3         -7.090174e-16 -1.674712e-15  1.249961e-15 -1.263606e-16   \n",
       "4          1.000000e+00  4.601733e-15 -7.393086e-16 -4.441493e-16   \n",
       "5          4.601733e-15  1.000000e+00 -5.339528e-15 -7.029173e-15   \n",
       "6         -7.393086e-16 -5.339528e-15  1.000000e+00  1.766451e-15   \n",
       "7         -4.441493e-16 -7.029173e-15  1.766451e-15  1.000000e+00   \n",
       "8          2.092047e-15  4.535638e-15  4.440958e-15 -1.870944e-15   \n",
       "9         -4.999144e-16  1.006466e-14  6.191108e-15  7.638994e-16   \n",
       "\n",
       "                      8             9  \n",
       "SALEPRICE -2.199234e-03 -3.937930e-02  \n",
       "0          1.188138e-14 -2.765305e-14  \n",
       "1          2.816453e-15  2.255128e-15  \n",
       "2         -2.114111e-15 -3.257824e-15  \n",
       "3         -1.065453e-15  2.147597e-15  \n",
       "4          2.092047e-15 -4.999144e-16  \n",
       "5          4.535638e-15  1.006466e-14  \n",
       "6          4.440958e-15  6.191108e-15  \n",
       "7         -1.870944e-15  7.638994e-16  \n",
       "8          1.000000e+00  1.234850e-16  \n",
       "9          1.234850e-16  1.000000e+00  "
      ]
     },
     "execution_count": 27,
     "metadata": {},
     "output_type": "execute_result"
    }
   ],
   "source": [
    "from sklearn.decomposition import PCA\n",
    "\n",
    "X = df[count_cols]\n",
    "X = (X-X.mean())/X.std()\n",
    "pca = PCA(n_components=10)\n",
    "\n",
    "pd.concat((df[['SALEPRICE']],pd.DataFrame(pca.fit(X).transform(X))),axis=1).corr()"
   ]
  },
  {
   "cell_type": "code",
   "execution_count": 36,
   "metadata": {
    "collapsed": false
   },
   "outputs": [
    {
     "name": "stdout",
     "output_type": "stream",
     "text": [
      "381185.301635\n"
     ]
    }
   ],
   "source": [
    "from sklearn import cross_validation, grid_search\n",
    "\n",
    "X = df[count_cols]\n",
    "X = (X-X.mean())/X.std()\n",
    "X = X.sample(10000)\n",
    "y = df.loc[X.index,'SALEPRICE']\n",
    "if 1:\n",
    "  clf = PLSRegression(n_components=5)\n",
    "  clf.fit(X,y)  \n",
    "  print (np.abs(clf.predict(X).ravel()-y)).mean()"
   ]
  },
  {
   "cell_type": "code",
   "execution_count": null,
   "metadata": {
    "collapsed": false
   },
   "outputs": [],
   "source": []
  },
  {
   "cell_type": "code",
   "execution_count": 111,
   "metadata": {
    "collapsed": false
   },
   "outputs": [
    {
     "data": {
      "image/png": "[encoded data removed]",
      "text/plain": [
       "<matplotlib.figure.Figure at 0x7f15c6376250>"
      ]
     },
     "metadata": {},
     "output_type": "display_data"
    },
    {
     "name": "stdout",
     "output_type": "stream",
     "text": [
      "{'n_neighbors': 3}\n"
     ]
    },
    {
     "data": {
      "text/plain": [
       "<matplotlib.figure.Figure at 0x7f15c40cf490>"
      ]
     },
     "metadata": {},
     "output_type": "display_data"
    }
   ],
   "source": [
    "from sklearn import cross_validation, grid_search\n",
    "from sklearn import linear_model, neighbors, ensemble\n",
    "\n",
    "if 0:\n",
    "  X = df[count_cols]\n",
    "  X = (X-X.mean())/X.std()\n",
    "else:\n",
    "  X = df[lat_lng_cols]\n",
    "  X = (X-X.min())/(X.max()-X.min())\n",
    "  \n",
    "#X = X.sample(1000)\n",
    "y = df.loc[X.index,'SALEPRICE']\n",
    "if 0:\n",
    "  clf = neighbors.KNeighborsRegressor(n_neighbors=1)\n",
    "  if 1:\n",
    "    pca = PCA(n_components=2)\n",
    "    clf.fit(pca.fit(X).transform(X),y)\n",
    "    print np.abs(clf.predict(pca.fit(X).transform(X))-y).mean()\n",
    "  else:\n",
    "    clf.fit(X,y)\n",
    "    print np.abs(clf.predict(X)-y).mean()\n",
    "else:\n",
    "  if 1:\n",
    "    param_grid = {'n_neighbors':range(1,6)}\n",
    "    clf_CV = grid_search.GridSearchCV( neighbors.KNeighborsRegressor(),\n",
    "                    param_grid=param_grid,\n",
    "                    cv=cross_validation.ShuffleSplit(len(y), n_iter=20, \n",
    "                        test_size=0.2, random_state=42) )\n",
    "  else:\n",
    "    param_grid = {'min_samples_leaf':range(1,8)}\n",
    "    clf_CV = grid_search.GridSearchCV( ensemble.RandomForestRegressor(),\n",
    "                    param_grid=param_grid,\n",
    "                    cv=cross_validation.ShuffleSplit(len(y), n_iter=20, \n",
    "                        test_size=0.2, random_state=42) )\n",
    "  if 0:\n",
    "    pca = PCA(n_components=10)\n",
    "    clf_CV.fit(pca.fit(X).transform(X),y)\n",
    "  else:\n",
    "    clf_CV.fit(X,y)\n",
    "    \n",
    "  for key in param_grid.keys():\n",
    "    grid_score_plotter(clf_CV,key,title='KNeighbors Cross-Validation')\n",
    "\n",
    "  print clf_CV.best_params_\n",
    "  \n"
   ]
  },
  {
   "cell_type": "code",
   "execution_count": null,
   "metadata": {
    "collapsed": false
   },
   "outputs": [],
   "source": []
  },
  {
   "cell_type": "code",
   "execution_count": 100,
   "metadata": {
    "collapsed": false
   },
   "outputs": [
    {
     "data": {
      "text/html": [
       "<div>\n",
       "<table border=\"1\" class=\"dataframe\">\n",
       "  <thead>\n",
       "    <tr style=\"text-align: right;\">\n",
       "      <th></th>\n",
       "      <th>SALEPRICE</th>\n",
       "      <th>bakery_mean_rating</th>\n",
       "      <th>bar_mean_rating</th>\n",
       "      <th>cafe_mean_rating</th>\n",
       "      <th>grocery_or_supermarket_mean_rating</th>\n",
       "      <th>movie_theater_mean_rating</th>\n",
       "      <th>park_mean_rating</th>\n",
       "      <th>pharmacy_mean_rating</th>\n",
       "      <th>restaurant_mean_rating</th>\n",
       "      <th>school_mean_rating</th>\n",
       "      <th>spa_mean_rating</th>\n",
       "      <th>subway_station_mean_rating</th>\n",
       "    </tr>\n",
       "  </thead>\n",
       "  <tbody>\n",
       "    <tr>\n",
       "      <th>SALEPRICE</th>\n",
       "      <td>1.000000</td>\n",
       "      <td>0.004081</td>\n",
       "      <td>0.011056</td>\n",
       "      <td>0.015963</td>\n",
       "      <td>0.006590</td>\n",
       "      <td>0.011752</td>\n",
       "      <td>-0.001197</td>\n",
       "      <td>-0.006426</td>\n",
       "      <td>-0.010946</td>\n",
       "      <td>-0.008513</td>\n",
       "      <td>-0.008428</td>\n",
       "      <td>-0.007903</td>\n",
       "    </tr>\n",
       "    <tr>\n",
       "      <th>bakery_mean_rating</th>\n",
       "      <td>0.004081</td>\n",
       "      <td>1.000000</td>\n",
       "      <td>0.219744</td>\n",
       "      <td>0.343613</td>\n",
       "      <td>0.571452</td>\n",
       "      <td>0.152069</td>\n",
       "      <td>0.012050</td>\n",
       "      <td>0.019408</td>\n",
       "      <td>0.263135</td>\n",
       "      <td>0.175393</td>\n",
       "      <td>0.169943</td>\n",
       "      <td>0.091048</td>\n",
       "    </tr>\n",
       "    <tr>\n",
       "      <th>bar_mean_rating</th>\n",
       "      <td>0.011056</td>\n",
       "      <td>0.219744</td>\n",
       "      <td>1.000000</td>\n",
       "      <td>0.540661</td>\n",
       "      <td>-0.089489</td>\n",
       "      <td>0.057112</td>\n",
       "      <td>0.125718</td>\n",
       "      <td>-0.069584</td>\n",
       "      <td>0.260768</td>\n",
       "      <td>-0.116400</td>\n",
       "      <td>0.061080</td>\n",
       "      <td>0.002048</td>\n",
       "    </tr>\n",
       "    <tr>\n",
       "      <th>cafe_mean_rating</th>\n",
       "      <td>0.015963</td>\n",
       "      <td>0.343613</td>\n",
       "      <td>0.540661</td>\n",
       "      <td>1.000000</td>\n",
       "      <td>0.209389</td>\n",
       "      <td>0.186900</td>\n",
       "      <td>0.053338</td>\n",
       "      <td>-0.208733</td>\n",
       "      <td>0.341421</td>\n",
       "      <td>-0.163018</td>\n",
       "      <td>0.123174</td>\n",
       "      <td>-0.006856</td>\n",
       "    </tr>\n",
       "    <tr>\n",
       "      <th>grocery_or_supermarket_mean_rating</th>\n",
       "      <td>0.006590</td>\n",
       "      <td>0.571452</td>\n",
       "      <td>-0.089489</td>\n",
       "      <td>0.209389</td>\n",
       "      <td>1.000000</td>\n",
       "      <td>0.135263</td>\n",
       "      <td>-0.038972</td>\n",
       "      <td>0.081701</td>\n",
       "      <td>0.271998</td>\n",
       "      <td>0.246450</td>\n",
       "      <td>0.142298</td>\n",
       "      <td>0.108130</td>\n",
       "    </tr>\n",
       "    <tr>\n",
       "      <th>movie_theater_mean_rating</th>\n",
       "      <td>0.011752</td>\n",
       "      <td>0.152069</td>\n",
       "      <td>0.057112</td>\n",
       "      <td>0.186900</td>\n",
       "      <td>0.135263</td>\n",
       "      <td>1.000000</td>\n",
       "      <td>0.041475</td>\n",
       "      <td>-0.221240</td>\n",
       "      <td>0.119003</td>\n",
       "      <td>-0.085362</td>\n",
       "      <td>0.202103</td>\n",
       "      <td>0.005470</td>\n",
       "    </tr>\n",
       "    <tr>\n",
       "      <th>park_mean_rating</th>\n",
       "      <td>-0.001197</td>\n",
       "      <td>0.012050</td>\n",
       "      <td>0.125718</td>\n",
       "      <td>0.053338</td>\n",
       "      <td>-0.038972</td>\n",
       "      <td>0.041475</td>\n",
       "      <td>1.000000</td>\n",
       "      <td>-0.227491</td>\n",
       "      <td>0.170287</td>\n",
       "      <td>-0.108590</td>\n",
       "      <td>0.090530</td>\n",
       "      <td>-0.066481</td>\n",
       "    </tr>\n",
       "    <tr>\n",
       "      <th>pharmacy_mean_rating</th>\n",
       "      <td>-0.006426</td>\n",
       "      <td>0.019408</td>\n",
       "      <td>-0.069584</td>\n",
       "      <td>-0.208733</td>\n",
       "      <td>0.081701</td>\n",
       "      <td>-0.221240</td>\n",
       "      <td>-0.227491</td>\n",
       "      <td>1.000000</td>\n",
       "      <td>-0.164440</td>\n",
       "      <td>0.246933</td>\n",
       "      <td>0.215760</td>\n",
       "      <td>0.224928</td>\n",
       "    </tr>\n",
       "    <tr>\n",
       "      <th>restaurant_mean_rating</th>\n",
       "      <td>-0.010946</td>\n",
       "      <td>0.263135</td>\n",
       "      <td>0.260768</td>\n",
       "      <td>0.341421</td>\n",
       "      <td>0.271998</td>\n",
       "      <td>0.119003</td>\n",
       "      <td>0.170287</td>\n",
       "      <td>-0.164440</td>\n",
       "      <td>1.000000</td>\n",
       "      <td>-0.133750</td>\n",
       "      <td>0.052077</td>\n",
       "      <td>0.063272</td>\n",
       "    </tr>\n",
       "    <tr>\n",
       "      <th>school_mean_rating</th>\n",
       "      <td>-0.008513</td>\n",
       "      <td>0.175393</td>\n",
       "      <td>-0.116400</td>\n",
       "      <td>-0.163018</td>\n",
       "      <td>0.246450</td>\n",
       "      <td>-0.085362</td>\n",
       "      <td>-0.108590</td>\n",
       "      <td>0.246933</td>\n",
       "      <td>-0.133750</td>\n",
       "      <td>1.000000</td>\n",
       "      <td>-0.048751</td>\n",
       "      <td>-0.019043</td>\n",
       "    </tr>\n",
       "    <tr>\n",
       "      <th>spa_mean_rating</th>\n",
       "      <td>-0.008428</td>\n",
       "      <td>0.169943</td>\n",
       "      <td>0.061080</td>\n",
       "      <td>0.123174</td>\n",
       "      <td>0.142298</td>\n",
       "      <td>0.202103</td>\n",
       "      <td>0.090530</td>\n",
       "      <td>0.215760</td>\n",
       "      <td>0.052077</td>\n",
       "      <td>-0.048751</td>\n",
       "      <td>1.000000</td>\n",
       "      <td>0.131073</td>\n",
       "    </tr>\n",
       "    <tr>\n",
       "      <th>subway_station_mean_rating</th>\n",
       "      <td>-0.007903</td>\n",
       "      <td>0.091048</td>\n",
       "      <td>0.002048</td>\n",
       "      <td>-0.006856</td>\n",
       "      <td>0.108130</td>\n",
       "      <td>0.005470</td>\n",
       "      <td>-0.066481</td>\n",
       "      <td>0.224928</td>\n",
       "      <td>0.063272</td>\n",
       "      <td>-0.019043</td>\n",
       "      <td>0.131073</td>\n",
       "      <td>1.000000</td>\n",
       "    </tr>\n",
       "  </tbody>\n",
       "</table>\n",
       "</div>"
      ],
      "text/plain": [
       "                                    SALEPRICE  bakery_mean_rating  \\\n",
       "SALEPRICE                            1.000000            0.004081   \n",
       "bakery_mean_rating                   0.004081            1.000000   \n",
       "bar_mean_rating                      0.011056            0.219744   \n",
       "cafe_mean_rating                     0.015963            0.343613   \n",
       "grocery_or_supermarket_mean_rating   0.006590            0.571452   \n",
       "movie_theater_mean_rating            0.011752            0.152069   \n",
       "park_mean_rating                    -0.001197            0.012050   \n",
       "pharmacy_mean_rating                -0.006426            0.019408   \n",
       "restaurant_mean_rating              -0.010946            0.263135   \n",
       "school_mean_rating                  -0.008513            0.175393   \n",
       "spa_mean_rating                     -0.008428            0.169943   \n",
       "subway_station_mean_rating          -0.007903            0.091048   \n",
       "\n",
       "                                    bar_mean_rating  cafe_mean_rating  \\\n",
       "SALEPRICE                                  0.011056          0.015963   \n",
       "bakery_mean_rating                         0.219744          0.343613   \n",
       "bar_mean_rating                            1.000000          0.540661   \n",
       "cafe_mean_rating                           0.540661          1.000000   \n",
       "grocery_or_supermarket_mean_rating        -0.089489          0.209389   \n",
       "movie_theater_mean_rating                  0.057112          0.186900   \n",
       "park_mean_rating                           0.125718          0.053338   \n",
       "pharmacy_mean_rating                      -0.069584         -0.208733   \n",
       "restaurant_mean_rating                     0.260768          0.341421   \n",
       "school_mean_rating                        -0.116400         -0.163018   \n",
       "spa_mean_rating                            0.061080          0.123174   \n",
       "subway_station_mean_rating                 0.002048         -0.006856   \n",
       "\n",
       "                                    grocery_or_supermarket_mean_rating  \\\n",
       "SALEPRICE                                                     0.006590   \n",
       "bakery_mean_rating                                            0.571452   \n",
       "bar_mean_rating                                              -0.089489   \n",
       "cafe_mean_rating                                              0.209389   \n",
       "grocery_or_supermarket_mean_rating                            1.000000   \n",
       "movie_theater_mean_rating                                     0.135263   \n",
       "park_mean_rating                                             -0.038972   \n",
       "pharmacy_mean_rating                                          0.081701   \n",
       "restaurant_mean_rating                                        0.271998   \n",
       "school_mean_rating                                            0.246450   \n",
       "spa_mean_rating                                               0.142298   \n",
       "subway_station_mean_rating                                    0.108130   \n",
       "\n",
       "                                    movie_theater_mean_rating  \\\n",
       "SALEPRICE                                            0.011752   \n",
       "bakery_mean_rating                                   0.152069   \n",
       "bar_mean_rating                                      0.057112   \n",
       "cafe_mean_rating                                     0.186900   \n",
       "grocery_or_supermarket_mean_rating                   0.135263   \n",
       "movie_theater_mean_rating                            1.000000   \n",
       "park_mean_rating                                     0.041475   \n",
       "pharmacy_mean_rating                                -0.221240   \n",
       "restaurant_mean_rating                               0.119003   \n",
       "school_mean_rating                                  -0.085362   \n",
       "spa_mean_rating                                      0.202103   \n",
       "subway_station_mean_rating                           0.005470   \n",
       "\n",
       "                                    park_mean_rating  pharmacy_mean_rating  \\\n",
       "SALEPRICE                                  -0.001197             -0.006426   \n",
       "bakery_mean_rating                          0.012050              0.019408   \n",
       "bar_mean_rating                             0.125718             -0.069584   \n",
       "cafe_mean_rating                            0.053338             -0.208733   \n",
       "grocery_or_supermarket_mean_rating         -0.038972              0.081701   \n",
       "movie_theater_mean_rating                   0.041475             -0.221240   \n",
       "park_mean_rating                            1.000000             -0.227491   \n",
       "pharmacy_mean_rating                       -0.227491              1.000000   \n",
       "restaurant_mean_rating                      0.170287             -0.164440   \n",
       "school_mean_rating                         -0.108590              0.246933   \n",
       "spa_mean_rating                             0.090530              0.215760   \n",
       "subway_station_mean_rating                 -0.066481              0.224928   \n",
       "\n",
       "                                    restaurant_mean_rating  \\\n",
       "SALEPRICE                                        -0.010946   \n",
       "bakery_mean_rating                                0.263135   \n",
       "bar_mean_rating                                   0.260768   \n",
       "cafe_mean_rating                                  0.341421   \n",
       "grocery_or_supermarket_mean_rating                0.271998   \n",
       "movie_theater_mean_rating                         0.119003   \n",
       "park_mean_rating                                  0.170287   \n",
       "pharmacy_mean_rating                             -0.164440   \n",
       "restaurant_mean_rating                            1.000000   \n",
       "school_mean_rating                               -0.133750   \n",
       "spa_mean_rating                                   0.052077   \n",
       "subway_station_mean_rating                        0.063272   \n",
       "\n",
       "                                    school_mean_rating  spa_mean_rating  \\\n",
       "SALEPRICE                                    -0.008513        -0.008428   \n",
       "bakery_mean_rating                            0.175393         0.169943   \n",
       "bar_mean_rating                              -0.116400         0.061080   \n",
       "cafe_mean_rating                             -0.163018         0.123174   \n",
       "grocery_or_supermarket_mean_rating            0.246450         0.142298   \n",
       "movie_theater_mean_rating                    -0.085362         0.202103   \n",
       "park_mean_rating                             -0.108590         0.090530   \n",
       "pharmacy_mean_rating                          0.246933         0.215760   \n",
       "restaurant_mean_rating                       -0.133750         0.052077   \n",
       "school_mean_rating                            1.000000        -0.048751   \n",
       "spa_mean_rating                              -0.048751         1.000000   \n",
       "subway_station_mean_rating                   -0.019043         0.131073   \n",
       "\n",
       "                                    subway_station_mean_rating  \n",
       "SALEPRICE                                            -0.007903  \n",
       "bakery_mean_rating                                    0.091048  \n",
       "bar_mean_rating                                       0.002048  \n",
       "cafe_mean_rating                                     -0.006856  \n",
       "grocery_or_supermarket_mean_rating                    0.108130  \n",
       "movie_theater_mean_rating                             0.005470  \n",
       "park_mean_rating                                     -0.066481  \n",
       "pharmacy_mean_rating                                  0.224928  \n",
       "restaurant_mean_rating                                0.063272  \n",
       "school_mean_rating                                   -0.019043  \n",
       "spa_mean_rating                                       0.131073  \n",
       "subway_station_mean_rating                            1.000000  "
      ]
     },
     "execution_count": 100,
     "metadata": {},
     "output_type": "execute_result"
    }
   ],
   "source": [
    "pd.concat((clf_CV.predict(X)-y,df[rating_cols]),axis=1).corr()"
   ]
  },
  {
   "cell_type": "code",
   "execution_count": 11,
   "metadata": {
    "collapsed": false
   },
   "outputs": [
    {
     "data": {
      "text/plain": [
       "GridSearchCV(cv=ShuffleSplit(1000, n_iter=20, test_size=0.2, random_state=42),\n",
       "       error_score='raise',\n",
       "       estimator=NuSVR(C=1.0, cache_size=200, coef0=0.0, degree=3, gamma=0.0, kernel='rbf',\n",
       "   max_iter=-1, nu=0.5, shrinking=True, tol=0.001, verbose=False),\n",
       "       fit_params={}, iid=True, loss_func=None, n_jobs=1,\n",
       "       param_grid={'C': array([  0.1,   1. ,  10. ]), 'nu': array([ 0.05   ,  0.26667,  0.48333,  0.7    ])},\n",
       "       pre_dispatch='2*n_jobs', refit=True, score_func=None, scoring=None,\n",
       "       verbose=0)"
      ]
     },
     "execution_count": 11,
     "metadata": {},
     "output_type": "execute_result"
    }
   ],
   "source": [
    "from sklearn.svm import NuSVR\n",
    "from sklearn import cross_validation, grid_search\n",
    "\n",
    "X = df[count_cols]\n",
    "X = (X-X.mean())/X.std()cc\n",
    "X = X.sample(1000)\n",
    "y = df.loc[X.index,'SALEPRICE']\n",
    "if 0:\n",
    "  clf = NuSVR(C=1.0, nu=0.1)\n",
    "  clf.fit(X,y)  \n",
    "  (np.abs(clf.predict(X)-y)).mean()\n",
    "\n",
    "param_grid = {\"nu\": np.linspace(0.05,0.7,4),\"C\": np.logspace(-1,1,3)}\n",
    "clf_CV = grid_search.GridSearchCV( NuSVR(),\n",
    "                param_grid=param_grid,\n",
    "                cv=cross_validation.ShuffleSplit(len(y), n_iter=20, \n",
    "                    test_size=0.2, random_state=42) )\n",
    "clf_CV.fit(X,y)"
   ]
  },
  {
   "cell_type": "code",
   "execution_count": 12,
   "metadata": {
    "collapsed": false
   },
   "outputs": [
    {
     "data": {
      "image/png": "[encoded data removed]",
      "text/plain": [
       "<matplotlib.figure.Figure at 0x7f15c6385fd0>"
      ]
     },
     "metadata": {},
     "output_type": "display_data"
    },
    {
     "data": {
      "text/plain": [
       "<matplotlib.figure.Figure at 0x7f15c6303190>"
      ]
     },
     "metadata": {},
     "output_type": "display_data"
    },
    {
     "data": {
      "image/png": "[encoded data removed]",
      "text/plain": [
       "<matplotlib.figure.Figure at 0x7f15c6385f90>"
      ]
     },
     "metadata": {},
     "output_type": "display_data"
    },
    {
     "name": "stdout",
     "output_type": "stream",
     "text": [
      "{'C': 10.0, 'nu': 0.26666666666666666}\n"
     ]
    },
    {
     "data": {
      "text/plain": [
       "<matplotlib.figure.Figure at 0x7f15c63d68d0>"
      ]
     },
     "metadata": {},
     "output_type": "display_data"
    }
   ],
   "source": [
    "for key in param_grid.keys():\n",
    "  grid_score_plotter(clf_CV,key,title='CV NuSVR')\n",
    "\n",
    "print clf_CV.best_params_"
   ]
  },
  {
   "cell_type": "code",
   "execution_count": 107,
   "metadata": {
    "collapsed": false
   },
   "outputs": [],
   "source": [
    "from sklearn import cross_validation, grid_search, neighbors\n",
    "from sklearn.pipeline import Pipeline, FeatureUnion\n",
    "from sklearn import preprocessing\n",
    "from sklearn.base import BaseEstimator, TransformerMixin\n",
    "from sklearn import cross_validation, grid_search, neighbors, ensemble\n",
    "from sklearn.pipeline import Pipeline\n",
    "from sklearn import linear_model"
   ]
  },
  {
   "cell_type": "code",
   "execution_count": null,
   "metadata": {
    "collapsed": true
   },
   "outputs": [],
   "source": []
  },
  {
   "cell_type": "code",
   "execution_count": 6,
   "metadata": {
    "collapsed": false,
    "scrolled": true
   },
   "outputs": [],
   "source": [
    "def grid_score_plotter(cv,param,title=None,xlabel=None):\n",
    "  cv_accuracy = pd.DataFrame.from_records(\n",
    "      [(score.parameters[param],\n",
    "        score.mean_validation_score)\n",
    "       for score in cv.grid_scores_],\n",
    "  columns=[param, 'accuracy'])\n",
    "\n",
    "  f = plt.figure(figsize=(4,3))\n",
    "  plt.plot(cv_accuracy[param], cv_accuracy.accuracy)\n",
    "  if xlabel is not None:\n",
    "    plt.xlabel(xlabel)\n",
    "  else:\n",
    "    plt.xlabel(param)\n",
    "  plt.ylabel('accuracy')\n",
    "  plt.title(title)\n",
    "  plt.show()\n",
    "  if title is not None:\n",
    "    plt.savefig('./static/images/'+title.replace(' ','_')+'.png',frameon=False,dpi=450,pad_inches=0.1)"
   ]
  },
  {
   "cell_type": "code",
   "execution_count": 108,
   "metadata": {
    "collapsed": false
   },
   "outputs": [],
   "source": [
    "class ColumnSelectTransformer(BaseEstimator, TransformerMixin):\n",
    "  \"\"\"\n",
    "  Select columns of data from nd array\n",
    "  \"\"\"\n",
    "  def __init__(self, columns, rescale=None):\n",
    "    ''' columns must be list of strings '''\n",
    "    self.columns = columns\n",
    "    if rescale == \"standard\" or rescale==\"range\" or rescale==None:\n",
    "      self.rescale = rescale\n",
    "    else:\n",
    "      raise NameError(\"rescale option must specify 'standard' or 'range'\")\n",
    "\n",
    "  def fit(self, X, y):\n",
    "    return self\n",
    "\n",
    "  def transform(self, X):\n",
    "    ''' Assume X is pandas dataframe '''\n",
    "    df = X[self.columns]\n",
    "    if self.rescale == \"standard\":\n",
    "      return (df-df.mean())/df.std()\n",
    "    elif self.rescale == \"range\":\n",
    "      return (df-df.min())/(df.max()-df.min())\n",
    "    else:\n",
    "      return df"
   ]
  },
  {
   "cell_type": "markdown",
   "metadata": {},
   "source": [
    "## Build a predictive model using only latitude and longitude using K-nearest neighbors ##"
   ]
  },
  {
   "cell_type": "code",
   "execution_count": null,
   "metadata": {
    "collapsed": false
   },
   "outputs": [],
   "source": []
  },
  {
   "cell_type": "code",
   "execution_count": 109,
   "metadata": {
    "collapsed": false
   },
   "outputs": [
    {
     "data": {
      "text/plain": [
       "GridSearchCV(cv=ShuffleSplit(12514, n_iter=20, test_size=0.2, random_state=42),\n",
       "       error_score='raise',\n",
       "       estimator=Pipeline(steps=[('sel', ColumnSelectTransformer(columns=['latitude', 'longitude'], rescale=None)), ('knn', KNeighborsRegressor(algorithm='auto', leaf_size=30, metric='minkowski',\n",
       "          metric_params=None, n_neighbors=5, p=2, weights='uniform'))]),\n",
       "       fit_params={}, iid=True, loss_func=None, n_jobs=1,\n",
       "       param_grid={'knn__n_neighbors': [1, 2, 3, 4, 5]},\n",
       "       pre_dispatch='2*n_jobs', refit=True, score_func=None, scoring=None,\n",
       "       verbose=0)"
      ]
     },
     "execution_count": 109,
     "metadata": {},
     "output_type": "execute_result"
    }
   ],
   "source": [
    "lat_lng_pipe = Pipeline([\n",
    "    ('sel',ColumnSelectTransformer(['latitude','longitude'],rescale=None)),\n",
    "    ('knn',neighbors.KNeighborsRegressor())\n",
    "  ])\n",
    "\n",
    "param_grid = {\"knn__n_neighbors\": range(1,6)}\n",
    "lat_lng_model_CV = grid_search.GridSearchCV( lat_lng_pipe,\n",
    "                param_grid=param_grid,\n",
    "                cv=cross_validation.ShuffleSplit(len(df.index), n_iter=20, \n",
    "                    test_size=0.2, random_state=42) )\n",
    "\n",
    "lat_lng_model_CV.fit(df,df.SALEPRICE)"
   ]
  },
  {
   "cell_type": "code",
   "execution_count": null,
   "metadata": {
    "collapsed": false
   },
   "outputs": [],
   "source": []
  },
  {
   "cell_type": "code",
   "execution_count": null,
   "metadata": {
    "collapsed": false
   },
   "outputs": [],
   "source": [
    "for key in param_grid.keys():\n",
    "  grid_score_plotter(lat_lng_model_CV,key,title='Cross Validation Using Lat-Long',\n",
    "                        xlabel='Number of Neighbors')\n",
    "\n",
    "print lat_lng_model_CV.best_params_"
   ]
  },
  {
   "cell_type": "code",
   "execution_count": 110,
   "metadata": {
    "collapsed": false
   },
   "outputs": [
    {
     "name": "stdout",
     "output_type": "stream",
     "text": [
      "lat_lng_err    82974.636048\n",
      "dtype: float64\n"
     ]
    },
    {
     "data": {
      "text/plain": [
       "{'knn': KNeighborsRegressor(algorithm='auto', leaf_size=30, metric='minkowski',\n",
       "           metric_params=None, n_neighbors=2, p=2, weights='uniform'),\n",
       " 'knn__algorithm': 'auto',\n",
       " 'knn__leaf_size': 30,\n",
       " 'knn__metric': 'minkowski',\n",
       " 'knn__metric_params': None,\n",
       " 'knn__n_neighbors': 2,\n",
       " 'knn__p': 2,\n",
       " 'knn__weights': 'uniform',\n",
       " 'sel': ColumnSelectTransformer(columns=['latitude', 'longitude'], rescale=None),\n",
       " 'sel__columns': ['latitude', 'longitude'],\n",
       " 'sel__rescale': None}"
      ]
     },
     "execution_count": 110,
     "metadata": {},
     "output_type": "execute_result"
    }
   ],
   "source": [
    "lat_lng_model = lat_lng_pipe.set_params(knn__n_neighbors=2)\n",
    "lat_lng_model.fit(df,df.SALEPRICE)\n",
    "computed_error = pd.DataFrame(\n",
    "  {'lat_lng_err': abs(df.SALEPRICE - lat_lng_model.predict(df))\n",
    "  })\n",
    "print computed_error.mean()\n",
    "lat_lng_model.get_params()\n"
   ]
  },
  {
   "cell_type": "code",
   "execution_count": null,
   "metadata": {
    "collapsed": false
   },
   "outputs": [],
   "source": [
    "if 1:\n",
    "  with open('./data/p_combo_model_rf.dpkl','wb') as p_output:\n",
    "    pickle.dump(lat_lng_model,p_output)"
   ]
  },
  {
   "cell_type": "code",
   "execution_count": null,
   "metadata": {
    "collapsed": false
   },
   "outputs": [],
   "source": [
    "stats_pipe = Pipeline([\n",
    "    ('sel',ColumnSelectTransformer(new_stats_cols,rescale=None)),\n",
    "    ('knn',neighbors.KNeighborsRegressor())\n",
    "  ])\n",
    "\n",
    "param_grid = {\"knn__n_neighbors\": range(1,6)}\n",
    "stats_model_CV = grid_search.GridSearchCV( stats_pipe,\n",
    "                param_grid=param_grid,\n",
    "                cv=cross_validation.ShuffleSplit(len(df.index), n_iter=20, \n",
    "                    test_size=0.2, random_state=42) )\n",
    "\n",
    "stats_model_CV.fit(df,df.SALEPRICE)"
   ]
  },
  {
   "cell_type": "code",
   "execution_count": null,
   "metadata": {
    "collapsed": false
   },
   "outputs": [],
   "source": [
    "for key in param_grid.keys():\n",
    "  f = grid_score_plotter(stats_model_CV,key,title='Cross Validation Using Amenities',\n",
    "                        xlabel='Number of Neighbors')\n",
    "\n",
    "print stats_model_CV.best_params_"
   ]
  },
  {
   "cell_type": "code",
   "execution_count": null,
   "metadata": {
    "collapsed": false
   },
   "outputs": [],
   "source": [
    "\n",
    "\n",
    "stats_pipe = Pipeline([\n",
    "    ('sel',ColumnSelectTransformer(new_stats_cols,rescale=None)),\n",
    "    ('model',ensemble.RandomForestRegressor(min_samples_leaf=3))\n",
    "  ])\n",
    "\n",
    "param_grid = {\"model__min_samples_split\": range(2,8,2)}\n",
    "stats_model_CV = grid_search.GridSearchCV( stats_pipe,\n",
    "                param_grid=param_grid,\n",
    "                cv=cross_validation.ShuffleSplit(len(df.index), n_iter=20, \n",
    "                    test_size=0.2, random_state=42) )\n",
    "\n",
    "stats_model_CV.fit(df,df.SALEPRICE)\n",
    "\n",
    "for key in param_grid.keys():\n",
    "  grid_score_plotter(stats_model_CV,key)\n"
   ]
  },
  {
   "cell_type": "code",
   "execution_count": null,
   "metadata": {
    "collapsed": true
   },
   "outputs": [],
   "source": []
  },
  {
   "cell_type": "code",
   "execution_count": null,
   "metadata": {
    "collapsed": false
   },
   "outputs": [],
   "source": [
    "## Combo RF\n",
    "from sklearn import cross_validation, grid_search, neighbors, ensemble\n",
    "from sklearn.pipeline import Pipeline\n",
    "from sklearn.decomposition import PCA\n",
    "from sklearn import linear_model\n",
    "\n",
    "combo_pipe = Pipeline([\n",
    "    ('union',\n",
    "       FeatureUnion([\n",
    "              ('lat_lng_pipe',\n",
    "                 Pipeline([\n",
    "                  ('sel',ColumnSelectTransformer(['latitude','longitude'],rescale=None)),\n",
    "                ])\n",
    "              ),\n",
    "              ('stats_pipe',\n",
    "                 Pipeline([\n",
    "                  ('sel',ColumnSelectTransformer(new_stats_cols,rescale=None)),\n",
    "                ])\n",
    "              ),          \n",
    "      ]) \n",
    "    ),  \n",
    "    ('model',ensemble.RandomForestRegressor())\n",
    "  ])\n",
    "\n",
    "param_grid = {\"model__min_samples_split\": range(1,3),\"model__min_samples_leaf\": range(1,3)}\n",
    "combo_model_CV = grid_search.GridSearchCV( combo_pipe,\n",
    "                param_grid=param_grid,\n",
    "                cv=cross_validation.ShuffleSplit(len(df.index), n_iter=20, \n",
    "                    test_size=0.2, random_state=42) )\n",
    "\n",
    "combo_model_CV.fit(df,df.SALEPRICE)\n",
    "\n",
    "for key in param_grid.keys():\n",
    "  grid_score_plotter(combo_model_CV,key)\n",
    "\n",
    "computed_error['combo_error'] = abs(df.SALEPRICE - lat_lng_model.predict(df))\n",
    "\n",
    "print computed_error.mean()\n",
    "print combo_model_CV.best_params_\n",
    "\n",
    "\n",
    "#combo_model = combo_pipe.fit(df,df.SALEPRICE)"
   ]
  },
  {
   "cell_type": "code",
   "execution_count": null,
   "metadata": {
    "collapsed": false
   },
   "outputs": [],
   "source": [
    "print np.mean(np.abs(combo_model.predict(df) - df.SALEPRICE))\n",
    "if 1:\n",
    "  with open('./data/p_combo_model_rf.dpkl','wb') as p_output:\n",
    "    pickle.dump(combo_model,p_output)"
   ]
  },
  {
   "cell_type": "code",
   "execution_count": null,
   "metadata": {
    "collapsed": true
   },
   "outputs": [],
   "source": [
    "neighbors.KNeighborsRegressor?"
   ]
  },
  {
   "cell_type": "code",
   "execution_count": null,
   "metadata": {
    "collapsed": false
   },
   "outputs": [],
   "source": [
    "## Combo KNN\n",
    "from sklearn import cross_validation, grid_search, neighbors, ensemble\n",
    "from sklearn.pipeline import Pipeline\n",
    "from sklearn.decomposition import PCA\n",
    "from sklearn import linear_model\n",
    "\n",
    "combo_pipe = Pipeline([\n",
    "    ('union',\n",
    "       FeatureUnion([\n",
    "              ('landarea_pipe',\n",
    "                 Pipeline([\n",
    "                  ('sel',ColumnSelectTransformer(['LANDAREA'])),\n",
    "                  ('scaling', preprocessing.StandardScaler(copy=True)),\n",
    "                ])\n",
    "              ),\n",
    "              ('lat_lng_pipe',\n",
    "                 Pipeline([\n",
    "                  ('sel',ColumnSelectTransformer(['latitude','longitude'])),\n",
    "                  ('scaling', preprocessing.MinMaxScaler(copy=True)),\n",
    "                ])\n",
    "              ),\n",
    "              ('stats_pipe',\n",
    "                 Pipeline([\n",
    "                  ('sel',ColumnSelectTransformer(new_stats_cols)),\n",
    "                  ('scaling', preprocessing.StandardScaler(copy=True)),\n",
    "                ])\n",
    "              ),          \n",
    "      ]) \n",
    "    ),  \n",
    "    ('model',neighbors.KNeighborsRegressor())\n",
    "  ])\n",
    "\n",
    "if 1:\n",
    "  param_grid = {\"model__n_neighbors\": range(1,9)}\n",
    "  combo_model = grid_search.GridSearchCV( combo_pipe,\n",
    "                  param_grid=param_grid,\n",
    "                  cv=cross_validation.ShuffleSplit(len(df.index), n_iter=20, \n",
    "                      test_size=0.2, random_state=42) )\n",
    "\n",
    "  combo_model.fit(df,df.SALEPRICE)\n",
    "\n",
    "  for key in param_grid.keys():\n",
    "    grid_score_plotter(combo_model,key)\n",
    "else:\n",
    "  combo_model = combo_pipe.fit(df,df.SALEPRICE)"
   ]
  },
  {
   "cell_type": "code",
   "execution_count": null,
   "metadata": {
    "collapsed": false
   },
   "outputs": [],
   "source": []
  },
  {
   "cell_type": "code",
   "execution_count": null,
   "metadata": {
    "collapsed": false
   },
   "outputs": [],
   "source": [
    "np.mean(np.abs(X.SALEPRICE-full_pipe.predict(X)))\n"
   ]
  }
 ],
 "metadata": {
  "kernelspec": {
   "display_name": "Python 2",
   "language": "python",
   "name": "python2"
  },
  "language_info": {
   "codemirror_mode": {
    "name": "ipython",
    "version": 2
   },
   "file_extension": ".py",
   "mimetype": "text/x-python",
   "name": "python",
   "nbconvert_exporter": "python",
   "pygments_lexer": "ipython2",
   "version": "2.7.10"
  }
 },
 "nbformat": 4,
 "nbformat_minor": 0
}
