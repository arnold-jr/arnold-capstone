{
 "cells": [
  {
   "cell_type": "markdown",
   "metadata": {},
   "source": [
    "#AmeniDC\n",
    "## The cost of amenities in the District of Columbia"
   ]
  },
  {
   "cell_type": "code",
   "execution_count": 55,
   "metadata": {
    "collapsed": true
   },
   "outputs": [],
   "source": [
    "import simplejson as json\n",
    "import requests\n",
    "from requests import Request, Session\n",
    "from bs4 import BeautifulSoup\n",
    "import re\n",
    "\n",
    "Vfrom urlparse import urljoin\n",
    "from collections import namedtuple\n",
    "import sqlite3\n",
    "import geojson\n",
    "from geojson import Feature, Point, FeatureCollection\n",
    "import pprint\n",
    "pp = pprint.PrettyPrinter(indent=0)"
   ]
  },
  {
   "cell_type": "markdown",
   "metadata": {},
   "source": [
    "#### Read in all API keys"
   ]
  },
  {
   "cell_type": "code",
   "execution_count": 42,
   "metadata": {
    "collapsed": true
   },
   "outputs": [],
   "source": [
    "with open(\"../secrets/google_secrets.json.nogit\") as fh:\n",
    "    secrets = json.loads(fh.read())\n",
    "key = secrets['server_api_key']"
   ]
  },
  {
   "cell_type": "markdown",
   "metadata": {},
   "source": [
    "#OpenData.DC html scraping for metadata"
   ]
  },
  {
   "cell_type": "code",
   "execution_count": 65,
   "metadata": {
    "collapsed": false
   },
   "outputs": [
    {
     "name": "stdout",
     "output_type": "stream",
     "text": [
      "200\n",
      "https://www.arcgis.com/sharing/rest/content/items/2acc75ccdd954267acecb8713b2b800a/info/metadata/metadata.xml?format=default&output=html\n"
     ]
    },
    {
     "data": {
      "text/plain": [
       "[]"
      ]
     },
     "execution_count": 65,
     "metadata": {},
     "output_type": "execute_result"
    }
   ],
   "source": [
    "details_url = 'https://www.arcgis.com/sharing/rest/content/items/2acc75ccdd954267acecb8713b2b800a/info/metadata/metadata.xml?format=default&output=html'\n",
    "\n",
    "resp = requests.get(details_url)\n",
    "print resp.status_code\n",
    "print resp.url\n",
    "soup = BeautifulSoup(resp.text)\n"
   ]
  },
  {
   "cell_type": "code",
   "execution_count": 132,
   "metadata": {
    "collapsed": false
   },
   "outputs": [],
   "source": [
    "con = sqlite3.connect('./property_sale_points.db')\n",
    "con.execute(\"drop table if exists attributes\")\n",
    "con.execute(\"create table attributes (code text, codedesc text)\")\n",
    "\n",
    "tags = soup.find_all(\"em\",text = re.compile('Attribute Label:'))\n",
    "code_desc = []\n",
    "for t in tags:\n",
    "  dt_tag = t.find_parent(\"dl\")\n",
    "  if dt_tag:\n",
    "    text_list = dt_tag.find_all(text=True)\n",
    "    tmp_cd = [i for i in text_list if i!='\\n' \n",
    "            and not re.search('Attribute Label:',i)\n",
    "            and not re.search('Attribute Definition:',i) ]\n",
    "    if len(tmp_cd) == 2:\n",
    "      code_desc.append((tmp_cd[0],tmp_cd[1]))\n",
    "    elif len(tmp_cd) == 1:\n",
    "      pass\n",
    "      code_desc.append((tmp_cd[0],''))\n",
    "    else:\n",
    "      pass\n",
    "    \n",
    "# con.rollback() is called after the with block finishes with an exception, the\n",
    "# exception is still raised and must be caught\n",
    "try:\n",
    "  with con:\n",
    "    con.executemany(\"insert into attributes values (?,?)\", list(set(code_desc)))\n",
    "except sqlite3.IntegrityError:\n",
    "    print \"couldn't add values to the table\"\n"
   ]
  },
  {
   "cell_type": "code",
   "execution_count": 133,
   "metadata": {
    "collapsed": false
   },
   "outputs": [
    {
     "name": "stdout",
     "output_type": "stream",
     "text": [
      "Object `with` not found.\n"
     ]
    }
   ],
   "source": []
  },
  {
   "cell_type": "markdown",
   "metadata": {},
   "source": [
    "#OpenData.DC API"
   ]
  },
  {
   "cell_type": "markdown",
   "metadata": {},
   "source": [
    "Get the property sale points from http://opendata.dc.gov/datasets/2acc75ccdd954267acecb8713b2b800a_28\n",
    "and store as a SQL database"
   ]
  },
  {
   "cell_type": "code",
   "execution_count": 5,
   "metadata": {
    "collapsed": false,
    "scrolled": true
   },
   "outputs": [],
   "source": [
    "search_url = 'http://opendata.dc.gov/datasets/2acc75ccdd954267acecb8713b2b800a_28.geojson?where=&geometry={\"xmin\":-8574493.39676032,\"ymin\":4708075.768737953,\"xmax\":-8571206.60454397,\"ymax\":4708792.365878146,\"spatialReference\":{\"wkid\":102100,\"latestWkid\":3857}}'\n",
    "\n",
    "resp = requests.get(search_url)\n"
   ]
  },
  {
   "cell_type": "code",
   "execution_count": 6,
   "metadata": {
    "collapsed": false
   },
   "outputs": [
    {
     "data": {
      "text/plain": [
       "200"
      ]
     },
     "execution_count": 6,
     "metadata": {},
     "output_type": "execute_result"
    }
   ],
   "source": [
    "resp.status_code"
   ]
  },
  {
   "cell_type": "code",
   "execution_count": 17,
   "metadata": {
    "collapsed": false
   },
   "outputs": [],
   "source": [
    "featcoll_sales = FeatureCollection(resp.json())"
   ]
  },
  {
   "cell_type": "code",
   "execution_count": 28,
   "metadata": {
    "collapsed": false,
    "scrolled": true
   },
   "outputs": [
    {
     "name": "stdout",
     "output_type": "stream",
     "text": [
      "[-76.9993210638, 38.9073176001]\n"
     ]
    }
   ],
   "source": [
    "#for feat in featcoll_sales['features']['features']:\n",
    "feat = featcoll_sales['features']['features'][0]"
   ]
  },
  {
   "cell_type": "code",
   "execution_count": 38,
   "metadata": {
    "collapsed": false,
    "scrolled": true
   },
   "outputs": [
    {
     "name": "stdout",
     "output_type": "stream",
     "text": [
      "{u'ABTLOTCODE': u' ',\n",
      "u'ACCEPTCODE': u'MARKET',\n",
      "u'ADDRESS1': u'5009 BRAMPTON PKWY',\n",
      "u'ADDRESS2': u' ',\n",
      "u'AMTDUE1': 8277.06,\n",
      "u'AMTDUE2': 9228.93,\n",
      "u'AMTDUE3': 9353.08,\n",
      "u'ANNUALTAX': 16554.12,\n",
      "u'ARN': u'328',\n",
      "u'ASRNAME': u'ROBERT GONZALES',\n",
      "u'ASSESSMENT': 1003280,\n",
      "u'BASEBUILD': 191480,\n",
      "u'BASELAND': 52020,\n",
      "u'CAPCURR': 1003280,\n",
      "u'CAPPROP': 1004220,\n",
      "u'CAREOFNAME': u' ',\n",
      "u'CITYSTZIP': u'ELLICOTT CITY, MD 21043-7424',\n",
      "u'CLASS3': u' ',\n",
      "u'CLASS3EX': 0,\n",
      "u'CLASSTYPE': u' ',\n",
      "u'COOPUNITS': 0,\n",
      "u'CY1BAL': 8277.06,\n",
      "u'CY1COLL': 0,\n",
      "u'CY1CR': 0.0,\n",
      "u'CY1FEE': 0,\n",
      "u'CY1INT': 0,\n",
      "u'CY1PEN': 0,\n",
      "u'CY1TAX': 8277.06,\n",
      "u'CY1TOTDUE': 8277.06,\n",
      "u'CY1TXSALE': u' ',\n",
      "u'CY1YEAR': u'2014 FIRST HALF',\n",
      "u'CY2BAL': 0.0,\n",
      "u'CY2COLL': 0,\n",
      "u'CY2CR': 0,\n",
      "u'CY2FEE': 0,\n",
      "u'CY2INT': 0,\n",
      "u'CY2PEN': 0,\n",
      "u'CY2TAX': 0.0,\n",
      "u'CY2TOTDUE': 0.0,\n",
      "u'CY2TXSALE': u' ',\n",
      "u'CY2YEAR': u' ',\n",
      "u'DEEDDATE': u'2012-11-08T00:00:00.000Z',\n",
      "u'DEEDSTATUS': u' ',\n",
      "u'DELCODE': u'N',\n",
      "u'DUEDATE1': u'20140331',\n",
      "u'DUEDATE2': u'20140430',\n",
      "u'DUEDATE3': u'20140530',\n",
      "u'EXTRACTDAT': u'2014-03-02T00:00:00.000Z',\n",
      "u'HIGHNUMBER': u'0423',\n",
      "u'HSTDCODE': u' ',\n",
      "u'LANDAREA': 3468,\n",
      "u'LASTPAYDT': None,\n",
      "u'LOT': u'0801',\n",
      "u'LOWNUMBER': u'0421',\n",
      "u'MIX1BLDPCT': 1,\n",
      "u'MIX1BLDVAL': 484020,\n",
      "u'MIX1CLASS': u'002',\n",
      "u'MIX1LNDPCT': 1,\n",
      "u'MIX1LNDVAL': 520200,\n",
      "u'MIX1RATE': 0.02,\n",
      "u'MIX1TXTYPE': u'TX',\n",
      "u'MIX2BLDPCT': 1,\n",
      "u'MIX2BLDVAL': 484020,\n",
      "u'MIX2CLASS': u'002',\n",
      "u'MIX2LNDPCT': 1,\n",
      "u'MIX2LNDVAL': 520200,\n",
      "u'MIX2RATE': 0.02,\n",
      "u'MIX2TXTYPE': u'TX',\n",
      "u'MIXEDUSE': u'S',\n",
      "u'NBHD': u'005',\n",
      "u'NEWIMPR': 484020,\n",
      "u'NEWLAND': 520200,\n",
      "u'NEWTOTAL': 1004220,\n",
      "u'OBJECTID': 3106,\n",
      "u'OLDIMPR': 465740,\n",
      "u'OLDLAND': 520200,\n",
      "u'OLDTOTAL': 985940,\n",
      "u'OWNERNAME': u'HUI C PAK',\n",
      "u'OWNNAME2': u'IN S PAK',\n",
      "u'OWNOCCT': 0,\n",
      "u'PARTPART': u'N',\n",
      "u'PCHILDCODE': u' ',\n",
      "u'PHASEBUILD': 483080,\n",
      "u'PHASECYCLE': u' ',\n",
      "u'PHASELAND': 520200,\n",
      "u'PREMISEADD': u'0421 - 0423 MORSE ST NE',\n",
      "u'PROPTYPE': u'COMMERCIAL',\n",
      "u'PY10BAL': 0,\n",
      "u'PY10COLL': 0.0,\n",
      "u'PY10CR': 0.0,\n",
      "u'PY10FEE': 0.0,\n",
      "u'PY10INT': 0.0,\n",
      "u'PY10PEN': 0.0,\n",
      "u'PY10TAX': 0.0,\n",
      "u'PY10TOTDUE': 0.0,\n",
      "u'PY10TXSALE': u' ',\n",
      "u'PY10YEAR': u' ',\n",
      "u'PY1BAL': 0.0,\n",
      "u'PY1COLL': 16268.0,\n",
      "u'PY1CR': 0.0,\n",
      "u'PY1FEE': 0.0,\n",
      "u'PY1INT': 0.0,\n",
      "u'PY1PEN': 0.0,\n",
      "u'PY1TAX': 16268.0,\n",
      "u'PY1TOTDUE': 16268.0,\n",
      "u'PY1TXSALE': u' ',\n",
      "u'PY1YEAR': u'2013 TAX YEAR',\n",
      "u'PY2BAL': 0,\n",
      "u'PY2COLL': 15839.18,\n",
      "u'PY2CR': 0.0,\n",
      "u'PY2FEE': 0.0,\n",
      "u'PY2INT': 0.0,\n",
      "u'PY2PEN': 0.0,\n",
      "u'PY2TAX': 15839.18,\n",
      "u'PY2TOTDUE': 15839.18,\n",
      "u'PY2TXSALE': u' ',\n",
      "u'PY2YEAR': u'2012 TAX YEAR',\n",
      "u'PY3BAL': 0,\n",
      "u'PY3COLL': 17079.88,\n",
      "u'PY3CR': 0.0,\n",
      "u'PY3FEE': 1552.72,\n",
      "u'PY3INT': 0.0,\n",
      "u'PY3PEN': 0.0,\n",
      "u'PY3TAX': 15527.16,\n",
      "u'PY3TOTDUE': 17079.88,\n",
      "u'PY3TXSALE': u' ',\n",
      "u'PY3YEAR': u'2011 TAX YEAR',\n",
      "u'PY4BAL': 0,\n",
      "u'PY4COLL': 15751.06,\n",
      "u'PY4CR': 0.0,\n",
      "u'PY4FEE': 0.0,\n",
      "u'PY4INT': 0.0,\n",
      "u'PY4PEN': 0.0,\n",
      "u'PY4TAX': 15751.06,\n",
      "u'PY4TOTDUE': 15751.06,\n",
      "u'PY4TXSALE': u' ',\n",
      "u'PY4YEAR': u'2010 TAX YEAR',\n",
      "u'PY5BAL': 0,\n",
      "u'PY5COLL': 14774.26,\n",
      "u'PY5CR': 0.0,\n",
      "u'PY5FEE': 0.0,\n",
      "u'PY5INT': 0.0,\n",
      "u'PY5PEN': 0.0,\n",
      "u'PY5TAX': 14774.26,\n",
      "u'PY5TOTDUE': 14774.26,\n",
      "u'PY5TXSALE': u' ',\n",
      "u'PY5YEAR': u'2009 TAX YEAR',\n",
      "u'PY6BAL': 0,\n",
      "u'PY6COLL': 16468.7,\n",
      "u'PY6CR': 0.0,\n",
      "u'PY6FEE': 0.0,\n",
      "u'PY6INT': 0.0,\n",
      "u'PY6PEN': 0.0,\n",
      "u'PY6TAX': 16468.7,\n",
      "u'PY6TOTDUE': 16468.7,\n",
      "u'PY6TXSALE': u' ',\n",
      "u'PY6YEAR': u'2008 TAX YEAR',\n",
      "u'PY7BAL': 0,\n",
      "u'PY7COLL': 7317.68,\n",
      "u'PY7CR': 0.0,\n",
      "u'PY7FEE': 0.0,\n",
      "u'PY7INT': 0.0,\n",
      "u'PY7PEN': 0.0,\n",
      "u'PY7TAX': 7317.68,\n",
      "u'PY7TOTDUE': 7317.68,\n",
      "u'PY7TXSALE': u' ',\n",
      "u'PY7YEAR': u'2007 TAX YEAR',\n",
      "u'PY8BAL': 0,\n",
      "u'PY8COLL': 6540.86,\n",
      "u'PY8CR': 0.0,\n",
      "u'PY8FEE': 0.0,\n",
      "u'PY8INT': 0.0,\n",
      "u'PY8PEN': 0.0,\n",
      "u'PY8TAX': 6540.86,\n",
      "u'PY8TOTDUE': 6540.86,\n",
      "u'PY8TXSALE': u' ',\n",
      "u'PY8YEAR': u'2006 TAX YEAR',\n",
      "u'PY9BAL': 0,\n",
      "u'PY9COLL': 5946.26,\n",
      "u'PY9CR': 0.0,\n",
      "u'PY9FEE': 0.0,\n",
      "u'PY9INT': 0.0,\n",
      "u'PY9PEN': 0.0,\n",
      "u'PY9TAX': 5946.26,\n",
      "u'PY9TOTDUE': 5946.26,\n",
      "u'PY9TXSALE': u' ',\n",
      "u'PY9YEAR': u'2005 TAX YEAR',\n",
      "u'QDRNTNAME': u'NE',\n",
      "u'REASONCD': u' ',\n",
      "u'SALEDATE': u'2012-11-08T00:00:00.000Z',\n",
      "u'SALEPRICE': 1150000,\n",
      "u'SALETYPE': u'I - IMPROVED',\n",
      "u'SQUARE': u'3588',\n",
      "u'SSL': u'3588    0801',\n",
      "u'STREETCODE': u'6220',\n",
      "u'STREETNAME': u'MORSE ST',\n",
      "u'SUBNBHD': u'C',\n",
      "u'SUFFIX': u' ',\n",
      "u'TAXRATE': 0.0,\n",
      "u'TOTBALAMT': 8277.06,\n",
      "u'TOTCOLAMT': 115985.88,\n",
      "u'TOTDUEAMT': 124262.94,\n",
      "u'TRIGROUP': u'1',\n",
      "u'TXSALEDESC': u' ',\n",
      "u'UNITNUMBER': u' ',\n",
      "u'USECODE': u'075',\n",
      "u'VACLNDUSE': u'N',\n",
      "u'X_COORD': None,\n",
      "u'Y_COORD': 137716.749795}\n"
     ]
    }
   ],
   "source": [
    "pp.pprint(feat['properties'])"
   ]
  },
  {
   "cell_type": "code",
   "execution_count": null,
   "metadata": {
    "collapsed": false
   },
   "outputs": [],
   "source": [
    "con.execute(\"drop table if exists attr_descs\")\n",
    "con.execute(\"create table attr_descs (code text, codedesc varchar unique)\")\n",
    "\n",
    "attr_codes_codedescs = [('PROPTYPE',('USECODE','Property Use Code')]\n",
    "\n",
    "# Successful, con.commit() is called automatically afterwards\n",
    "with con:\n",
    "    con.execute(\"insert into person(firstname) values (?)\", (\"Joe\",))\n",
    "\n",
    "# con.rollback() is called after the with block finishes with an exception, the\n",
    "# exception is still raised and must be caught\n",
    "try:\n",
    "    with con:\n",
    "        con.execute(\"insert into person(firstname) values (?)\", (\"Sarah\",))\n",
    "except sqlite3.IntegrityError:\n",
    "    print \"couldn't add Joe twice\""
   ]
  },
  {
   "cell_type": "markdown",
   "metadata": {},
   "source": [
    "# OpenStreetMap API"
   ]
  },
  {
   "cell_type": "markdown",
   "metadata": {},
   "source": [
    "Generate geospatial coordinates to query on the unit disk. Use openstreetmap API to reverse geocode coordinates."
   ]
  },
  {
   "cell_type": "code",
   "execution_count": null,
   "metadata": {
    "collapsed": false
   },
   "outputs": [],
   "source": [
    "base_lat = 38.904722\n",
    "base_lng = -77.016389\n",
    "rev_geocode_url = \"http://nominatim.openstreetmap.org/reverse\"\n",
    "geocode_payload = {'format':'json','lat':base_lat,'lon':base_lng}\n",
    "resp_address = requests.get(rev_geocode_url,params=geocode_payload)\n",
    "resp_address.json()"
   ]
  },
  {
   "cell_type": "markdown",
   "metadata": {},
   "source": [
    "# Google Maps Places API"
   ]
  },
  {
   "cell_type": "markdown",
   "metadata": {},
   "source": [
    "Here, places are queried for nearby subway stations"
   ]
  },
  {
   "cell_type": "code",
   "execution_count": null,
   "metadata": {
    "collapsed": false,
    "scrolled": true
   },
   "outputs": [],
   "source": [
    "\n",
    "\n",
    "search_url = \"https://maps.googleapis.com/maps/api/place/nearbysearch/json\"\n",
    "# Add this here because key must go last\n",
    "search_url += '?location='+str(base_lat)+','+str(base_lng)\n",
    "search_payload = {\"key\":key,\n",
    "                 \"radius\":1000,\"types\":\"subway_station\"}\n",
    "req = Request('GET', search_url,params=search_payload)\n",
    "prepared = req.prepare()\n",
    "print prepared.url\n",
    "\n",
    "session = Session()\n",
    "resp = session.send(prepared)\n",
    "resp_json = resp.json()\n",
    "print resp.status_code\n",
    "print json.dumps(resp_json,indent=4, separators=(',', ': '))"
   ]
  },
  {
   "cell_type": "markdown",
   "metadata": {},
   "source": [
    "#Google Distance Matrix API"
   ]
  },
  {
   "cell_type": "markdown",
   "metadata": {},
   "source": [
    "Compute distances to subway stations"
   ]
  },
  {
   "cell_type": "code",
   "execution_count": null,
   "metadata": {
    "collapsed": false
   },
   "outputs": [],
   "source": [
    "# store results as list of dicts\n",
    "results = resp_json['results'] \n",
    "Place = namedtuple('Place', ['place_id', 'name', 'lat','lng'], verbose=False)\n",
    "stations = [Place(r['place_id'],r['name'],\n",
    "                  r['geometry']['location']['lat'],\n",
    "                  r['geometry']['location']['lng']) \n",
    "            for r in results]\n",
    "for s in stations:\n",
    "    print s.place_id, s.name, s.lat, s.lng\n"
   ]
  },
  {
   "cell_type": "code",
   "execution_count": null,
   "metadata": {
    "collapsed": false
   },
   "outputs": [],
   "source": [
    "search_url = \"https://maps.googleapis.com/maps/api/distancematrix/json\"\n",
    "# Add this here because key must go last\n",
    "search_url += '?origins='+str(base_lat)+','+str(base_lng)\n",
    "search_url += '&destinations='+str(stations[0].lat)+','+str(stations[0].lng)\n",
    "\n",
    "print search_url\n"
   ]
  },
  {
   "cell_type": "code",
   "execution_count": null,
   "metadata": {
    "collapsed": false,
    "scrolled": true
   },
   "outputs": [],
   "source": [
    "search_payload = {\"key\":key}\n",
    "req = Request('GET', search_url,params=search_payload)\n",
    "prepared = req.prepare()\n",
    "print prepared.url\n",
    "\n",
    "session = Session()\n",
    "resp = session.send(prepared)\n",
    "resp_json = resp.json()\n",
    "print resp.status_code\n",
    "print json.dumps(resp_json,indent=4, separators=(',', ': '))"
   ]
  }
 ],
 "metadata": {
  "kernelspec": {
   "display_name": "Python 2",
   "language": "python",
   "name": "python2"
  },
  "language_info": {
   "codemirror_mode": {
    "name": "ipython",
    "version": 2
   },
   "file_extension": ".py",
   "mimetype": "text/x-python",
   "name": "python",
   "nbconvert_exporter": "python",
   "pygments_lexer": "ipython2",
   "version": "2.7.10"
  }
 },
 "nbformat": 4,
 "nbformat_minor": 0
}
