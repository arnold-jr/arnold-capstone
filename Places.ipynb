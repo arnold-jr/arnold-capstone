{
 "cells": [
  {
   "cell_type": "markdown",
   "metadata": {},
   "source": [
    "#AmeniDC\n",
    "## See the cost of amenities in the District of Columbia"
   ]
  },
  {
   "cell_type": "code",
   "execution_count": 1,
   "metadata": {
    "collapsed": true
   },
   "outputs": [],
   "source": [
    "%matplotlib inline\n",
    "import matplotlib\n",
    "import seaborn as sns\n",
    "matplotlib.rcParams['savefig.dpi'] = 4 * matplotlib.rcParams['savefig.dpi']\n",
    "import matplotlib.pylab as plt\n",
    "\n",
    "# Define amenity types of interest\n",
    "AMENITY_TYPES = ['bakery','bar','cafe','grocery_or_supermarket',\n",
    "  'movie_theater','park','pharmacy','restaurant','school','spa','subway_station']\n",
    "\n",
    "valid_zipcodes = []\n",
    "with open('./data/valid_zipcodes.txt','r') as f:\n",
    "  valid_zipcodes = [line.strip() for line in f.readlines()]"
   ]
  },
  {
   "cell_type": "code",
   "execution_count": 2,
   "metadata": {
    "collapsed": true
   },
   "outputs": [],
   "source": [
    "import simplejson as json\n",
    "import requests\n",
    "from requests import Request, Session\n",
    "from bs4 import BeautifulSoup\n",
    "import re\n",
    "\n",
    "from urlparse import urljoin\n",
    "from collections import namedtuple\n",
    "import sqlite3\n",
    "from pyspark.sql import SQLContext\n",
    "\n",
    "import numpy as np\n",
    "import pandas as pd\n",
    "import dill as pickle\n",
    "\n",
    "import pprint\n",
    "pp = pprint.PrettyPrinter(indent=0)"
   ]
  },
  {
   "cell_type": "markdown",
   "metadata": {
    "slideshow": {
     "slide_type": "slide"
    }
   },
   "source": [
    "#OpenData.DC API"
   ]
  },
  {
   "cell_type": "markdown",
   "metadata": {
    "slideshow": {
     "slide_type": "subslide"
    }
   },
   "source": [
    "Get the property sale points from http://opendata.dc.gov/datasets/2acc75ccdd954267acecb8713b2b800a_28\n",
    "and store as a SQL database pandas DataFrame"
   ]
  },
  {
   "cell_type": "code",
   "execution_count": null,
   "metadata": {
    "collapsed": false,
    "scrolled": false
   },
   "outputs": [],
   "source": [
    "from ediblepickle import checkpoint\n",
    "\n",
    "\n",
    "@checkpoint(key='prop_sales_json.csv', work_dir='data', refresh=False)\n",
    "def request_records():\n",
    "  url = 'http://opendata.dc.gov/datasets/2acc75ccdd954267acecb8713b2b800a_28.geojson'\n",
    "  with requests.Session() as s:\n",
    "    resp = s.get(url)\n",
    "    try:\n",
    "        resp.raise_for_status()\n",
    "    except requests.exceptions.HTTPError as e:\n",
    "        print \"And you get an HTTPError:\", e.message\n",
    "  return resp.json()\n",
    "  \n",
    "  \n",
    "def build_df(resp_json):\n",
    "  keep_cols = [u'ADDRESS1',u'ADDRESS2',u'ANNUALTAX',u'ASSESSMENT',\n",
    "               u'BASEBUILD',u'BASELAND',u'CITYSTZIP',\n",
    "               u'HIGHNUMBER',u'HSTDCODE',u'LANDAREA',u'LOT',\n",
    "               u'LOWNUMBER',u'NBHD',\n",
    "               u'NEWIMPR',u'NEWLAND',u'NEWTOTAL',\n",
    "               u'OLDIMPR',u'OLDLAND',u'OLDTOTAL',u'OWNOCCT',\n",
    "               u'PREMISEADD',u'PROPTYPE',u'QDRNTNAME',u'SALEDATE',\n",
    "               u'SALEPRICE',u'SALETYPE',u'SQUARE',u'SSL',u'STREETCODE',u'STREETNAME',\n",
    "               u'SUBNBHD',u'coordinates']\n",
    "    \n",
    "  row_dicts = []\n",
    "  for feats in resp_json['features']:\n",
    "    try:\n",
    "      # get coordinates\n",
    "      row = dict(zip(['longitude','latitude'],feats['geometry']['coordinates']))\n",
    "    except:\n",
    "      continue\n",
    "    attrs = feats['properties'] # get select property attributes\n",
    "    row.update(dict(( (k,attrs.get(k,'')) for k in keep_cols )))\n",
    "    row_dicts.append(row)\n",
    "    \n",
    "  df = pd.DataFrame(row_dicts)\n",
    "  print df.columns\n",
    "\n",
    "  df['lat_lng'] = df.loc[:,('latitude','longitude')].apply(\n",
    "      lambda row: str(row[0])+','+str(row[1]),axis=1)\n",
    "\n",
    "  df.to_hdf('./data/df_cleaned_wo_amen.hd5','df')\n",
    "  \n",
    "\n",
    "if False:\n",
    "  resp_json = request_records()\n",
    "  print resp_json['features'][0]\n",
    "if False:\n",
    "  build_df(resp_json)"
   ]
  },
  {
   "cell_type": "markdown",
   "metadata": {
    "collapsed": false
   },
   "source": [
    "Only keep residential single family residences"
   ]
  },
  {
   "cell_type": "code",
   "execution_count": null,
   "metadata": {
    "collapsed": false
   },
   "outputs": [],
   "source": [
    "if False:\n",
    "  df = pd.read_hdf('./data/df_cleaned_wo_amen.hd5','df')\n",
    "  print df['PROPTYPE'].unique()\n",
    "  df = df.loc[df['PROPTYPE']==u'RESIDENTIAL-SINGLE FAMILY',:].copy()\n",
    "  print df['PROPTYPE'].unique()\n",
    "  df.to_hdf('./data/df_cleaned_res_only.hd5','df')\n"
   ]
  },
  {
   "cell_type": "markdown",
   "metadata": {},
   "source": [
    "Parse the zipcodes and remove zipcodes that aren't in DC"
   ]
  },
  {
   "cell_type": "code",
   "execution_count": null,
   "metadata": {
    "collapsed": false,
    "scrolled": true
   },
   "outputs": [],
   "source": [
    "from sklearn import cross_validation, grid_search, neighbors\n",
    "\n",
    "def zip_parser(x):\n",
    "  z = x.split()[-1][:5]\n",
    "  try:\n",
    "    zint = int(z)\n",
    "    if len(z) == 5:\n",
    "      return z\n",
    "    else:\n",
    "      return u''\n",
    "  except:\n",
    "    return u''\n",
    "  \n",
    "if False:\n",
    "  df = pd.read_hdf('./data/df_cleaned_res_only.hd5','df')\n",
    "  df['zipcode'] = df.CITYSTZIP.map(lambda r: zip_parser(r))\n",
    "\n",
    "  #print df.zipcode.unique()\n",
    "\n",
    "  # extract zips from CITYSTZIP column\n",
    "  df['zipcode'] = df.CITYSTZIP.map(lambda r: zip_parser(r))\n",
    "  \n",
    "\n",
    "  # Use nearest neighbors to fill in missing\n",
    "  param_grid = {\"n_neighbors\": range(4,10)}\n",
    "  zip_model = grid_search.GridSearchCV( neighbors.KNeighborsClassifier(),\n",
    "                  param_grid=param_grid,\n",
    "                  cv=cross_validation.ShuffleSplit(len(df.index), n_iter=20, \n",
    "                      test_size=0.2,random_state=42) )\n",
    "\n",
    "  zip_model.fit(df[['latitude','longitude']],df['zipcode'])\n",
    "  for key in param_grid.keys():\n",
    "    grid_score_plotter(zip_model,key)\n",
    "\n",
    "  badzip = df.zipcode==''\n",
    "  df.loc[badzip,'zipcode'] = zip_model.predict(df.loc[badzip,('latitude','longitude')])\n",
    "  \n",
    "  df.to_hdf('./data/df_cleaned_zipcodes.hd5','df')\n"
   ]
  },
  {
   "cell_type": "markdown",
   "metadata": {},
   "source": [
    "# Google Maps Places API"
   ]
  },
  {
   "cell_type": "markdown",
   "metadata": {},
   "source": [
    "Here, property sale locations are queried for nearby amenities. API requests were made once offline and pickled. Data for each lat_lng pair were stored as dict. \n",
    "\n",
    "Create a df column showing amenity_price_rating numbers for the top 20 hits within 1000m of the property"
   ]
  },
  {
   "cell_type": "code",
   "execution_count": null,
   "metadata": {
    "collapsed": false
   },
   "outputs": [],
   "source": [
    "if True:\n",
    "  #df = pd.read_hdf('./data/df_cleaned_zipcodes.hd5','df')\n",
    "  df = pd.read_hdf('./data/df_w_amen.hd5','df')\n"
   ]
  },
  {
   "cell_type": "code",
   "execution_count": null,
   "metadata": {
    "collapsed": false
   },
   "outputs": [],
   "source": [
    "if True:\n",
    "  df = df.iloc[:15,:].copy()\n",
    "  df.reset_index(inplace=True)"
   ]
  },
  {
   "cell_type": "code",
   "execution_count": null,
   "metadata": {
    "collapsed": false
   },
   "outputs": [],
   "source": [
    "len(df.columns)"
   ]
  },
  {
   "cell_type": "code",
   "execution_count": null,
   "metadata": {
    "collapsed": false
   },
   "outputs": [],
   "source": [
    "df['lat_lng'][0]"
   ]
  },
  {
   "cell_type": "code",
   "execution_count": null,
   "metadata": {
    "collapsed": true
   },
   "outputs": [],
   "source": [
    "import simplejson as json\n",
    "import pandas as pd\n",
    "from requests import Request, Sessio\n",
    "from requests_futures.sessions import FuturesSession\n",
    "from collections import namedtuple\n",
    "import operator\n",
    "import time\n",
    "\n",
    "\n",
    "# Read in all API keys\n",
    "with open(\"../secrets/google_secrets.json.nogit\") as fh: \n",
    "  secrets = json.loads(fh.read())\n",
    "google_api_key = secrets['server_api_key']\n",
    "\n",
    "Summary = namedtuple('Summary',['count','count_rating','sum_rating','sum_rating_sq',\n",
    "                               'count_price_level','sum_price_level','sum_price_level_sq'])\n",
    "\n",
    "def google_places_parser(sess,resp):\n",
    "  \n",
    "  if False:\n",
    "    print resp.json()['results'][0]\n",
    "  \n",
    "  count = 0\n",
    "  count_rating = 0\n",
    "  sum_rating = 0\n",
    "  sum_rating_sq = 0\n",
    "  count_price_level = 0\n",
    "  sum_price_level = 0\n",
    "  sum_price_level_sq = 0\n",
    "\n",
    "  for r in resp.json()['results']:\n",
    "    rating = r.get('rating')\n",
    "    if rating:\n",
    "      count_rating += 1\n",
    "      sum_rating += float(rating)\n",
    "      sum_rating_sq += float(rating)**2\n",
    "\n",
    "    price_level = r.get('price_level')\n",
    "    if price_level:\n",
    "      count_price_level += 1\n",
    "      sum_price_level += float(price_level)    \n",
    "      sum_price_level_sq += float(price_level)**2    \n",
    "    \n",
    "    count += 1\n",
    "\n",
    "  summary = Summary(count,count_rating,sum_rating,sum_rating_sq,\n",
    "                   count_price_level,sum_price_level,sum_price_level_sq)\n",
    "\n",
    "  resp.data = {'next_page_token':resp.json().get('next_page_token',''),\n",
    "               'summary':summary}\n",
    "\n",
    "\n",
    "def make_urls(npt_ll_series,amen_query):\n",
    "  base_url = \"https://maps.googleapis.com/maps/api/place/nearbysearch/json\"\n",
    "  s = Session()\n",
    "  \n",
    "  urls = []\n",
    "  for row in npt_ll_series:\n",
    "    npt, ll = row\n",
    "    if npt == '':\n",
    "      search_payload = {\"key\":google_api_key,\n",
    "                        \"radius\":1000,\n",
    "                        \"types\":amen_query,\n",
    "                        \"location\":ll}\n",
    "    else:\n",
    "      '''Including a page token forces Google to ignore all other\n",
    "      search parameters'''\n",
    "      search_payload = {\"key\":google_api_key,\n",
    "                        'pagetoken':npt}\n",
    "\n",
    "    req = Request('GET', base_url, params=search_payload)\n",
    "\n",
    "    urls.append(s.prepare_request(req).url)\n",
    "  \n",
    "  return urls"
   ]
  },
  {
   "cell_type": "code",
   "execution_count": null,
   "metadata": {
    "collapsed": false
   },
   "outputs": [],
   "source": [
    "# Build up the dataframe\n",
    "from itertools import izip\n",
    "\n",
    "session = FuturesSession(max_workers=7)\n",
    "\n",
    "start_time = time.time()\n",
    "for k in range(10,4,-1):\n",
    "  amenity = AMENITY_TYPES[k]\n",
    "  df['next_page_token'] = ''\n",
    "  df[amenity] = df.apply(lambda _: Summary(0,0,0,0,0,0,0),axis=1)kkkjjj\n",
    "  get_more = df.index\n",
    "  \n",
    "  for i in xrange(3):\n",
    "    urls = make_urls(df.ix[get_more,('next_page_token','lat_lng')].as_matrix(),amenity)    \n",
    "    results = (session.get(url,background_callback=google_places_parser) \n",
    "               for url in urls)\n",
    "    outputs = ((x.result().data['next_page_token'],x.result().data['summary']) \n",
    "               for x in results)\n",
    "\n",
    "    npts,summaries = izip(*outputs)\n",
    "    df.ix[get_more,amenity] = pd.Series((Summary(*map(operator.add,x[0],x[1]))\n",
    "                                for x in izip(df.ix[get_more,amenity],summaries)),index=get_more)\n",
    "    df.ix[get_more,\"next_page_token\"] = npts\n",
    "\n",
    "    get_more = df.index[df.next_page_token != '']\n",
    "    \n",
    "    print i,len(get_more)\n",
    "    if len(get_more) == 0:\n",
    "      break\n",
    "    time.sleep(2) # delay because next page is not immediately available\n",
    "  \n",
    "  if True:\n",
    "    df.to_hdf('./data/df_w_amen.hd5','df')\n",
    "    \n",
    "print(\"--- %s seconds ---\" % (time.time() - start_time))\n",
    "\n"
   ]
  },
  {
   "cell_type": "code",
   "execution_count": null,
   "metadata": {
    "collapsed": false
   },
   "outputs": [],
   "source": []
  },
  {
   "cell_type": "markdown",
   "metadata": {},
   "source": [
    "### Find count and mean of each amenity ###"
   ]
  },
  {
   "cell_type": "code",
   "execution_count": null,
   "metadata": {
    "collapsed": false,
    "scrolled": true
   },
   "outputs": [],
   "source": [
    "AMENITY_TYPES"
   ]
  },
  {
   "cell_type": "code",
   "execution_count": null,
   "metadata": {
    "collapsed": false
   },
   "outputs": [],
   "source": [
    "if True:`\n",
    "  df = pd.read_hdf('./data/df_w_amen.hd5','df')\n"
   ]
  },
  {
   "cell_type": "code",
   "execution_count": null,
   "metadata": {
    "collapsed": true
   },
   "outputs": [],
   "source": [
    "if True:\n",
    "  df = df.sample(100).copy()\n"
   ]
  },
  {
   "cell_type": "code",
   "execution_count": null,
   "metadata": {
    "collapsed": false
   },
   "outputs": [],
   "source": [
    "len(df.index)"
   ]
  },
  {
   "cell_type": "code",
   "execution_count": null,
   "metadata": {
    "collapsed": false
   },
   "outputs": [],
   "source": [
    "for amenity in AMENITY_TYPES:\n",
    "  sum_cols = ['count','count_rating','mean_rating','std_rating',\n",
    "              'count_price_level','mean_price_level','std_price_level']\n",
    "  df = pd.concat( [df,pd.DataFrame.from_records(\n",
    "                      df[amenity].map(lambda x: summarizer(x)).tolist(),\n",
    "                      columns=[amenity + '_' + s for s in sum_cols],\n",
    "                      index=df.index)], axis = 1\n",
    "            )"
   ]
  },
  {
   "cell_type": "code",
   "execution_count": null,
   "metadata": {
    "collapsed": false
   },
   "outputs": [],
   "source": [
    "if True:\n",
    "  df.to_hdf('./data/df_w_amen_flat.hd5','df')"
   ]
  },
  {
   "cell_type": "markdown",
   "metadata": {},
   "source": [
    "#Visualize the data"
   ]
  },
  {
   "cell_type": "code",
   "execution_count": null,
   "metadata": {
    "collapsed": false
   },
   "outputs": [],
   "source": []
  },
  {
   "cell_type": "code",
   "execution_count": null,
   "metadata": {
    "collapsed": false
   },
   "outputs": [],
   "source": [
    "if True:\n",
    "  df = pd.read_hdf('./data/df_w_amen_flat.hd5','df')\n",
    "df = df.loc[df.zipcode.map(lambda x: x in valid_zipcodes),:]"
   ]
  },
  {
   "cell_type": "code",
   "execution_count": null,
   "metadata": {
    "collapsed": false
   },
   "outputs": [],
   "source": []
  },
  {
   "cell_type": "code",
   "execution_count": null,
   "metadata": {
    "collapsed": false
   },
   "outputs": [],
   "source": []
  },
  {
   "cell_type": "code",
   "execution_count": null,
   "metadata": {
    "collapsed": false,
    "scrolled": true
   },
   "outputs": [],
   "source": [
    "df[ \n",
    "  ['zipcode','SALEPRICE'] \n",
    "   + [col for col in df.columns if '_count' in col and '_count_' not in col]\n",
    "   + [col for col in df.columns if 'mean_rating' in col or 'mean_price' in col]\n",
    "  ].groupby('zipcode').mean().to_csv('./data/mean_by_zip_04.csv')"
   ]
  },
  {
   "cell_type": "code",
   "execution_count": null,
   "metadata": {
    "collapsed": true
   },
   "outputs": [],
   "source": [
    "zip_json = requests.get('http://opendata.dc.gov/datasets/5637d4bb43a34668b19fe630120d2b70_4.geojson')"
   ]
  },
  {
   "cell_type": "code",
   "execution_count": null,
   "metadata": {
    "collapsed": false
   },
   "outputs": [],
   "source": [
    "coords = []\n",
    "for row in zip_json.json()['features']:\n",
    "  coords.append(row['geometry'])"
   ]
  },
  {
   "cell_type": "code",
   "execution_count": null,
   "metadata": {
    "collapsed": false,
    "scrolled": true
   },
   "outputs": [],
   "source": [
    "coords"
   ]
  },
  {
   "cell_type": "code",
   "execution_count": null,
   "metadata": {
    "collapsed": false,
    "scrolled": true
   },
   "outputs": [],
   "source": [
    "pd.DataFrame(zip_json.json()['features'])"
   ]
  },
  {
   "cell_type": "code",
   "execution_count": null,
   "metadata": {
    "collapsed": false
   },
   "outputs": [],
   "source": [
    "df_zip = pd.read_json('http://opendata.dc.gov/datasets/5637d4bb43a34668b19fe630120d2b70_4.geojson')"
   ]
  },
  {
   "cell_type": "code",
   "execution_count": null,
   "metadata": {
    "collapsed": false,
    "scrolled": true
   },
   "outputs": [],
   "source": [
    "df_zip"
   ]
  },
  {
   "cell_type": "code",
   "execution_count": null,
   "metadata": {
    "collapsed": false
   },
   "outputs": [],
   "source": [
    "df_mean_count = df.groupby('zipcode')[['SALEPRICE']+[col for col in df.columns if '_count' in col and '_count_' not in col]].mean()"
   ]
  },
  {
   "cell_type": "code",
   "execution_count": null,
   "metadata": {
    "collapsed": false,
    "scrolled": false
   },
   "outputs": [],
   "source": [
    "df_mean_count.loc['20008',[col for col in df_mean_count.columns if col != 'SALEPRICE']].plot(kind='barh')\n"
   ]
  },
  {
   "cell_type": "code",
   "execution_count": null,
   "metadata": {
    "collapsed": false
   },
   "outputs": [],
   "source": [
    "from bokeh.plotting import figure, show\n",
    "from bokeh.io import output_notebook\n",
    "from bokeh.models import FixedTicker\n",
    "\n",
    "output_notebook()"
   ]
  },
  {
   "cell_type": "code",
   "execution_count": null,
   "metadata": {
    "collapsed": false
   },
   "outputs": [],
   "source": []
  },
  {
   "cell_type": "markdown",
   "metadata": {},
   "source": [
    "```python\n",
    "from bokeh.plotting import figure, show\n",
    "from bokeh.models import Range1d\n",
    "\n",
    "TOOLS=\"crosshair,pan,box_zoom,reset,box_select,lasso_select\"\n",
    "\n",
    "xlabel = 'Average Number of Amenities with 1km Radius'\n",
    "ylabel = ''\n",
    "\n",
    "this_row = df_mean_count.loc['20008',:]\n",
    "p = figure(width=800, height=600, y_range=this_row.index.tolist(), tools=TOOLS)\n",
    "\n",
    "p.background_fill = \"#EAEAF2\"\n",
    "\n",
    "p.grid.grid_line_alpha=1.0\n",
    "p.grid.grid_line_color = \"white\"\n",
    "\n",
    "p.xaxis.axis_label = xlabel\n",
    "p.xaxis.axis_label_text_font_size = '14pt'\n",
    "p.xaxis.major_label_text_font_size = '14pt'\n",
    "p.x_range = Range1d(0,50)\n",
    "#p.xaxis[0].ticker=FixedTicker(ticks=[i for i in xrange(0,5,1)])\n",
    "\n",
    "p.yaxis.major_label_text_font_size = '14pt'\n",
    "p.yaxis.axis_label = ylabel\n",
    "\n",
    "p.yaxis.axis_label_text_font_size = '14pt'\n",
    "\n",
    "\n",
    "j = 1\n",
    "for k,v in this_row.iteritems():\n",
    "  print k,v,j\n",
    "  p.rect(x=v/2, y=j, width=v, height=0.4,color=(76,114,176),\n",
    "    width_units=\"data\", height_units=\"data\")\n",
    "  j += 1\n",
    "\n",
    "show(p)\n",
    "```"
   ]
  },
  {
   "cell_type": "markdown",
   "metadata": {},
   "source": [
    "##Single Series bar chart"
   ]
  },
  {
   "cell_type": "code",
   "execution_count": null,
   "metadata": {
    "collapsed": false
   },
   "outputs": [],
   "source": [
    "from bokeh.plotting import figure, show\n",
    "from bokeh.models import Range1d\n",
    "\n",
    "TOOLS=\"crosshair,pan,box_zoom,reset,box_select,lasso_select\"\n",
    "\n",
    "xlabel = 'Average Number of Amenities with 1km Radius'\n",
    "ylabel = ''\n",
    "\n",
    "this_row = df_mean_count.loc['20008',:]\n",
    "p = figure(width=800, height=600, y_range=this_row.index.tolist(), tools=TOOLS)\n",
    "\n",
    "p.background_fill = \"#EAEAF2\"\n",
    "\n",
    "p.grid.grid_line_alpha=1.0\n",
    "p.grid.grid_line_color = \"white\"\n",
    "\n",
    "p.xaxis.axis_label = xlabel\n",
    "p.xaxis.axis_label_text_font_size = '14pt'\n",
    "p.xaxis.major_label_text_font_size = '14pt'\n",
    "p.x_range = Range1d(0,50)\n",
    "#p.xaxis[0].ticker=FixedTicker(ticks=[i for i in xrange(0,5,1)])\n",
    "\n",
    "p.yaxis.major_label_text_font_size = '14pt'\n",
    "p.yaxis.axis_label = ylabel\n",
    "p.yaxis.axis_label_text_font_size = '14pt'\n",
    "\n",
    "j = 1\n",
    "for k,v in this_row.iteritems():\n",
    "  print k,v,j\n",
    "  p.rect(x=v/2, y=j, width=abs(v), height=0.4,color=(76,114,176),\n",
    "    width_units=\"data\", height_units=\"data\")\n",
    "  j += 1\n",
    "\n",
    "show(p)"
   ]
  },
  {
   "cell_type": "code",
   "execution_count": null,
   "metadata": {
    "collapsed": false
   },
   "outputs": [],
   "source": []
  },
  {
   "cell_type": "code",
   "execution_count": null,
   "metadata": {
    "collapsed": false
   },
   "outputs": [],
   "source": [
    "p.x_range?"
   ]
  },
  {
   "cell_type": "code",
   "execution_count": null,
   "metadata": {
    "collapsed": false
   },
   "outputs": [],
   "source": []
  },
  {
   "cell_type": "code",
   "execution_count": null,
   "metadata": {
    "collapsed": false
   },
   "outputs": [],
   "source": [
    "df = pd.DataFrame( \n",
    "  {'SALEPRICE': {'20008': 901813.09850746265},\n",
    "  'bakery_count': {'20008': 6.2850746268656712},\n",
    "  'bar_count': {'20008': 25.435820895522387},\n",
    "  'cafe_count': {'20008': 13.088059701492538},\n",
    "  'grocery_or_supermarket_count': {'20008': 8.7253731343283576},\n",
    "  'movie_theater_count': {'20008': 1.1417910447761195},\n",
    "  'park_count': {'20008': 8.4074626865671647},\n",
    "  'pharmacy_count': {'20008': 8.071641791044776},\n",
    "  'restaurant_count': {'20008': 43.562686567164178},\n",
    "  'school_count': {'20008': 18.622388059701493},\n",
    "  'spa_count': {'20008': 6.4850746268656714},\n",
    "  'subway_station_count': {'20008': 1.6850746268656716}} \n",
    "  )\n",
    "df"
   ]
  },
  {
   "cell_type": "code",
   "execution_count": null,
   "metadata": {
    "collapsed": false
   },
   "outputs": [],
   "source": [
    "this_df.loc['20009',:].to_dict()"
   ]
  },
  {
   "cell_type": "code",
   "execution_count": null,
   "metadata": {
    "collapsed": false
   },
   "outputs": [],
   "source": [
    "def parse_column_name():\n",
    "  '''Prepare the data to plot from the database'''\n",
    "  this_df = pd.DataFrame(\n",
    "    {'SALEPRICE': {'20008': 901813.09850746265},\n",
    "    'bakery_count': {'20008': 6.2850746268656712},\n",
    "    'bar_count': {'20008': 25.435820895522387},\n",
    "    'cafe_count': {'20008': 13.088059701492538},\n",
    "    'grocery_or_supermarket_count': {'20008': 8.7253731343283576},\n",
    "    'movie_theater_count': {'20008': 1.1417910447761195},\n",
    "    'park_count': {'20008': 8.4074626865671647},\n",
    "    'pharmacy_count': {'20008': 8.071641791044776},\n",
    "    'restaurant_count': {'20008': 43.562686567164178},\n",
    "    'school_count': {'20008': 18.622388059701493},\n",
    "    'spa_count': {'20008': 6.4850746268656714},\n",
    "    'subway_station_count': {'20008': 1.6850746268656716}}\n",
    "    )\n",
    "\n",
    "\n",
    "  return this_df.append(\n",
    "      pd.DataFrame.from_dict(\n",
    "        {'query':\n",
    "          {'SALEPRICE': 966153.51489868888,\n",
    "          'bakery_count': 18.389749702026222,\n",
    "          'bar_count': 56.282479141835516,\n",
    "          'cafe_count': 41.280691299165674,\n",
    "          'grocery_or_supermarket_count': 30.650774731823599,\n",
    "          'movie_theater_count': 1.3510131108462455,\n",
    "          'park_count': 19.90405244338498,\n",
    "          'pharmacy_count': 23.856376638855782,\n",
    "          'restaurant_count': 58.564362336114421,\n",
    "          'school_count': 45.101907032181167,\n",
    "          'spa_count': 16.930274135876044,\n",
    "          'subway_station_count': 2.3134684147794995}\n",
    "          }, orient='index')"
   ]
  },
  {
   "cell_type": "code",
   "execution_count": null,
   "metadata": {
    "collapsed": false
   },
   "outputs": [],
   "source": [
    "pd.DataFrame.from_dict({'query':{'SALEPRICE':100,'bar_count':50}},orient='index')"
   ]
  },
  {
   "cell_type": "code",
   "execution_count": null,
   "metadata": {
    "collapsed": false
   },
   "outputs": [],
   "source": [
    "df.append(pd.DataFrame.from_dict({'query':{'SALEPRICE':100,'bar_count':50}},orient='index'))"
   ]
  },
  {
   "cell_type": "code",
   "execution_count": null,
   "metadata": {
    "collapsed": false,
    "scrolled": true
   },
   "outputs": [],
   "source": [
    "from bokeh.plotting import figure, show\n",
    "from bokeh.models import Range1d, LinearAxis, LogAxis\n",
    "\n",
    "TOOLS=\"crosshair,pan,box_zoom,reset,box_select,lasso_select\"\n",
    "\n",
    "\n",
    "this_df = df_mean_count.loc[['20008','20009'],:]\n",
    "p = figure(width=800, height=600, y_range=[col for col in reversed(this_df.columns.tolist())],\n",
    "           tools=TOOLS)\n",
    "\n",
    "# Set y axis properties\n",
    "p.yaxis.axis_label = 'Amenity type'\n",
    "p.yaxis.axis_label_text_font_size = '12pt'\n",
    "p.yaxis.major_label_text_font_size = '12pt'\n",
    "\n",
    "# Set primary x axis properties\n",
    "p.xaxis.axis_label = 'Average Number of Amenities within 1km Radius'\n",
    "p.xaxis.axis_label_text_font_size = '12pt'\n",
    "p.xaxis.major_label_text_font_size = '12pt'\n",
    "p.x_range = Range1d(0,60)\n",
    "\n",
    "# Setting the second x axis range name and range\n",
    "p.extra_x_ranges ={\"saleprice\": Range1d(start=0, end=10)}\n",
    "\n",
    "# Adding the second axis to the plot.  \n",
    "p.add_layout(LinearAxis(x_range_name=\"saleprice\",\n",
    "            axis_label='Sale price / $100,000',axis_label_text_font_size = '12pt'), 'above')\n",
    "                  \n",
    "                  \n",
    "# Make background and grid look like seaborn\n",
    "p.background_fill = \"#EAEAF2\"\n",
    "p.grid.grid_line_alpha = 1.0\n",
    "p.grid.grid_line_color = \"white\"\n",
    "\n",
    "\n",
    "height = 0.4\n",
    "offsets = np.linspace(-0.5,0.5,2)*height\n",
    "colors = [(76,114,176),(253,141,60)]\n",
    "j = len(this_df.columns)\n",
    "for k,v in this_df.iteritems():\n",
    "  print k,v.tolist()\n",
    "  if k == 'SALEPRICE':\n",
    "    x_range_name = 'saleprice'\n",
    "    v /= 100000\n",
    "  else:\n",
    "    x_range_name = None\n",
    "\n",
    "  for i in xrange(0,2):\n",
    "    p.rect(x=v[i]/2, y=j+offsets[i], width=abs(v[i]), height=height, color=colors[i],\n",
    "      width_units=\"data\", height_units=\"data\",x_range_name=x_range_name)\n",
    "  j -= 1\n",
    "  \n",
    "\n",
    "show(p)"
   ]
  },
  {
   "cell_type": "code",
   "execution_count": null,
   "metadata": {
    "collapsed": false
   },
   "outputs": [],
   "source": []
  },
  {
   "cell_type": "code",
   "execution_count": 18,
   "metadata": {
    "collapsed": false
   },
   "outputs": [
    {
     "data": {
      "text/plain": [
       "<matplotlib.figure.Figure at 0x7fc32dcd2710>"
      ]
     },
     "metadata": {},
     "output_type": "display_data"
    }
   ],
   "source": [
    "\n"
   ]
  },
  {
   "cell_type": "code",
   "execution_count": null,
   "metadata": {
    "collapsed": true
   },
   "outputs": [],
   "source": [
    "def hist_plotter(df,cols,prefix=None,xlim=None):\n",
    "  for attr in cols:\n",
    "    plt.figure(figsize=(4,3))\n",
    "    \n",
    "    try:\n",
    "      df[attr].hist(bins=np.linspace(xlim[0],xlim[1],21))\n",
    "    except:\n",
    "      pass\n",
    "    plt.xlabel(attr)\n",
    "    plt.ylabel('Number of sale locations')\n",
    "    plt.xlim(xlim)\n",
    "    plt.tight_layout()\n",
    "    plt.savefig('./static/images/'+attr+'.png',frameon=False,dpi=450,pad_inches=0.1)"
   ]
  },
  {
   "cell_type": "code",
   "execution_count": null,
   "metadata": {
    "collapsed": false
   },
   "outputs": [],
   "source": [
    "hist_plotter(df,(col for col in df.columns if '_count' in col and '_count_' not in col),\n",
    "             prefix='count_',xlim=(0,60))\n",
    "hist_plotter(df,(col for col in df.columns if '_mean_rating' in col),\n",
    "             prefix='rating_',xlim=(0,5))\n",
    "hist_plotter(df,(col for col in df.columns if '_mean_price_level' in col),\n",
    "             prefix='price_', xlim=(0,5))\n"
   ]
  },
  {
   "cell_type": "code",
   "execution_count": null,
   "metadata": {
    "collapsed": false
   },
   "outputs": [],
   "source": [
    "df"
   ]
  },
  {
   "cell_type": "code",
   "execution_count": null,
   "metadata": {
    "collapsed": false
   },
   "outputs": [],
   "source": [
    "def scatter_plotter(df,attr,title=None):\n",
    "  df.plot(kind='scatter',x=attr,y='SALEPRICE',figsize=(4,3))\n",
    "  plt.xlabel(attr)\n",
    "  plt.yscale('log')\n",
    "  plt.title(title)"
   ]
  },
  {
   "cell_type": "code",
   "execution_count": null,
   "metadata": {
    "collapsed": false
   },
   "outputs": [],
   "source": [
    "for name, group in df.groupby('zipcode'):\n",
    "  #print name, len(group.index)\n",
    "  if len(group.index)>5:\n",
    "    scatter_plotter(group,'grocery_or_supermarket_mean_rating',name)"
   ]
  },
  {
   "cell_type": "code",
   "execution_count": null,
   "metadata": {
    "collapsed": false
   },
   "outputs": [],
   "source": [
    "scatter_plotter(group,'cafe_count')"
   ]
  },
  {
   "cell_type": "markdown",
   "metadata": {},
   "source": [
    "#Do some modeling"
   ]
  },
  {
   "cell_type": "code",
   "execution_count": 3,
   "metadata": {
    "collapsed": false
   },
   "outputs": [],
   "source": [
    "if True:\n",
    "  df = pd.read_hdf('./data/df_w_amen_flat.hd5','df')\n",
    "df = df.loc[df.zipcode.map(lambda x: x in valid_zipcodes),:]\n",
    "\n",
    "stats_cols = ([col for col in df.columns if '_count' in col and '_count_' not in col]\n",
    "          + [col for col in df.columns if 'mean_rating' in col and 'count' not in col]\n",
    "          + [col for col in df.columns if 'mean_price_level' in col and 'count' not in col])\n",
    "col_list = ['SALEPRICE','latitude','longitude','LANDAREA','zipcode']+stats_cols\n",
    "df = df[col_list]\n",
    "df = df.fillna(df.mean())\n",
    "df = df.loc[:,np.logical_not(np.isnan(df.mean()))]\n",
    "new_col_list = [col for col in df.columns if col in col_list]\n",
    "new_stats_cols = [col for col in df.columns if col in stats_cols]\n",
    "df = df.loc[:,new_col_list]\n"
   ]
  },
  {
   "cell_type": "code",
   "execution_count": null,
   "metadata": {
    "collapsed": false
   },
   "outputs": [],
   "source": [
    "df.loc[:,[col for col in df.columns if 'itude' not in col]].groupby('zipcode').mean().to_csv('./data/mean_by_zip_05.csv')"
   ]
  },
  {
   "cell_type": "code",
   "execution_count": 4,
   "metadata": {
    "collapsed": false
   },
   "outputs": [],
   "source": [
    "from sklearn import cross_validation, grid_search, neighbors\n",
    "from sklearn.pipeline import Pipeline, FeatureUnion\n",
    "from sklearn import preprocessing\n",
    "from sklearn.base import BaseEstimator, TransformerMixin\n",
    "from sklearn import cross_validation, grid_search, neighbors, ensemble\n",
    "from sklearn.pipeline import Pipeline\n",
    "from sklearn import linear_model"
   ]
  },
  {
   "cell_type": "code",
   "execution_count": 32,
   "metadata": {
    "collapsed": true
   },
   "outputs": [],
   "source": [
    "plt.savefig?"
   ]
  },
  {
   "cell_type": "code",
   "execution_count": 36,
   "metadata": {
    "collapsed": false,
    "scrolled": true
   },
   "outputs": [],
   "source": [
    "def grid_score_plotter(cv,param,title=None,xlabel=None):\n",
    "  cv_accuracy = pd.DataFrame.from_records(\n",
    "      [(score.parameters[param],\n",
    "        score.mean_validation_score)\n",
    "       for score in cv.grid_scores_],\n",
    "  columns=[param, 'accuracy'])\n",
    "\n",
    "  f = plt.figure(figsize=(4,3))\n",
    "  plt.plot(cv_accuracy[param], cv_accuracy.accuracy)\n",
    "  if xlabel is not None:\n",
    "    plt.xlabel(xlabel)\n",
    "  else:\n",
    "    plt.xlabel(param)\n",
    "  plt.ylabel('accuracy')\n",
    "  plt.title(title)\n",
    "  plt.show()\n",
    "  if title is not None:\n",
    "    plt.savefig('./static/images/'+title.replace(' ','_')+'.png',frameon=False,dpi=450,pad_inches=0.1)"
   ]
  },
  {
   "cell_type": "code",
   "execution_count": 6,
   "metadata": {
    "collapsed": false
   },
   "outputs": [],
   "source": [
    "class ColumnSelectTransformer(BaseEstimator, TransformerMixin):\n",
    "  \"\"\"\n",
    "  Select columns of data from nd array\n",
    "  \"\"\"\n",
    "  def __init__(self, columns, rescale=None):\n",
    "    ''' columns must be list of strings '''\n",
    "    self.columns = columns\n",
    "    if rescale == \"standard\" or rescale==\"range\" or rescale==None:\n",
    "      self.rescale = rescale\n",
    "    else:\n",
    "      raise NameError(\"rescale option must specify 'standard' or 'range'\")\n",
    "\n",
    "  def fit(self, X, y):\n",
    "    return self\n",
    "\n",
    "  def transform(self, X):\n",
    "    ''' Assume X is pandas dataframe '''\n",
    "    df = X[self.columns]\n",
    "    if self.rescale == \"standard\":\n",
    "      return (df-df.mean())/df.std()\n",
    "    elif self.rescale == \"range\":\n",
    "      return (df-df.min())/(df.max()-df.min())\n",
    "    else:\n",
    "      return df"
   ]
  },
  {
   "cell_type": "markdown",
   "metadata": {},
   "source": [
    "## Build a predictive model using only latitude and longitude using K-nearest neighbors ##"
   ]
  },
  {
   "cell_type": "code",
   "execution_count": null,
   "metadata": {
    "collapsed": false
   },
   "outputs": [],
   "source": []
  },
  {
   "cell_type": "code",
   "execution_count": null,
   "metadata": {
    "collapsed": true
   },
   "outputs": [],
   "source": [
    "lat_lng_pipe = Pipeline([\n",
    "    ('sel',ColumnSelectTransformer(['latitude','longitude'],rescale=None)),\n",
    "    ('knn',neighbors.KNeighborsRegressor())\n",
    "  ])\n",
    "\n",
    "param_grid = {\"knn__n_neighbors\": range(1,6)}\n",
    "lat_lng_model_CV = grid_search.GridSearchCV( lat_lng_pipe,\n",
    "                param_grid=param_grid,\n",
    "                cv=cross_validation.ShuffleSplit(len(df.index), n_iter=20, \n",
    "                    test_size=0.2, random_state=42) )\n",
    "\n",
    "lat_lng_model_CV.fit(df,df.SALEPRICE)"
   ]
  },
  {
   "cell_type": "code",
   "execution_count": null,
   "metadata": {
    "collapsed": false
   },
   "outputs": [],
   "source": []
  },
  {
   "cell_type": "code",
   "execution_count": 37,
   "metadata": {
    "collapsed": false
   },
   "outputs": [
    {
     "data": {
      "image/png": "[encoded data removed]",
      "text/plain": [
       "<matplotlib.figure.Figure at 0x7fc32e6167d0>"
      ]
     },
     "metadata": {},
     "output_type": "display_data"
    },
    {
     "name": "stdout",
     "output_type": "stream",
     "text": [
      "{'knn__n_neighbors': 2}\n"
     ]
    },
    {
     "data": {
      "text/plain": [
       "<matplotlib.figure.Figure at 0x7fc3337b80d0>"
      ]
     },
     "metadata": {},
     "output_type": "display_data"
    }
   ],
   "source": [
    "for key in param_grid.keys():\n",
    "  grid_score_plotter(lat_lng_model_CV,key,title='Cross Validation Using Lat-Long',\n",
    "                        xlabel='Number of Neighbors')\n",
    "\n",
    "print lat_lng_model_CV.best_params_"
   ]
  },
  {
   "cell_type": "code",
   "execution_count": 12,
   "metadata": {
    "collapsed": false
   },
   "outputs": [
    {
     "name": "stdout",
     "output_type": "stream",
     "text": [
      "lat_lng_err    82975.351247\n",
      "dtype: float64\n"
     ]
    },
    {
     "data": {
      "text/plain": [
       "{'knn': KNeighborsRegressor(algorithm='auto', leaf_size=30, metric='minkowski',\n",
       "           metric_params=None, n_neighbors=2, p=2, weights='uniform'),\n",
       " 'knn__algorithm': 'auto',\n",
       " 'knn__leaf_size': 30,\n",
       " 'knn__metric': 'minkowski',\n",
       " 'knn__metric_params': None,\n",
       " 'knn__n_neighbors': 2,\n",
       " 'knn__p': 2,\n",
       " 'knn__weights': 'uniform',\n",
       " 'sel': ColumnSelectTransformer(columns=['latitude', 'longitude'], rescale=None),\n",
       " 'sel__columns': ['latitude', 'longitude'],\n",
       " 'sel__rescale': None}"
      ]
     },
     "execution_count": 12,
     "metadata": {},
     "output_type": "execute_result"
    }
   ],
   "source": [
    "lat_lng_model = lat_lng_pipe.set_params(knn__n_neighbors=2)\n",
    "lat_lng_model.fit(df,df.SALEPRICE)\n",
    "computed_error = pd.DataFrame(\n",
    "  {'lat_lng_err': abs(df.SALEPRICE - lat_lng_model.predict(df))\n",
    "  })\n",
    "print computed_error.mean()\n",
    "lat_lng_model.get_params()\n"
   ]
  },
  {
   "cell_type": "code",
   "execution_count": 13,
   "metadata": {
    "collapsed": false
   },
   "outputs": [],
   "source": [
    "if 1:\n",
    "  with open('./data/p_combo_model_rf.dpkl','wb') as p_output:\n",
    "    pickle.dump(lat_lng_model,p_output)"
   ]
  },
  {
   "cell_type": "code",
   "execution_count": 30,
   "metadata": {
    "collapsed": false
   },
   "outputs": [
    {
     "data": {
      "text/plain": [
       "GridSearchCV(cv=ShuffleSplit(12514, n_iter=20, test_size=0.2, random_state=42),\n",
       "       error_score='raise',\n",
       "       estimator=Pipeline(steps=[('sel', ColumnSelectTransformer(columns=['bakery_count', 'bar_count', 'cafe_count', 'grocery_or_supermarket_count', 'movie_theater_count', 'park_count', 'pharmacy_count', 'restaurant_count', 'school_count', 'spa_count', 'subway_station_count', 'bakery_mean_rating', 'bar_mean_rating', 'cafe_me..._size=30, metric='minkowski',\n",
       "          metric_params=None, n_neighbors=5, p=2, weights='uniform'))]),\n",
       "       fit_params={}, iid=True, loss_func=None, n_jobs=1,\n",
       "       param_grid={'knn__n_neighbors': [1, 2, 3, 4, 5]},\n",
       "       pre_dispatch='2*n_jobs', refit=True, score_func=None, scoring=None,\n",
       "       verbose=0)"
      ]
     },
     "execution_count": 30,
     "metadata": {},
     "output_type": "execute_result"
    }
   ],
   "source": [
    "stats_pipe = Pipeline([\n",
    "    ('sel',ColumnSelectTransformer(new_stats_cols,rescale=None)),\n",
    "    ('knn',neighbors.KNeighborsRegressor())\n",
    "  ])\n",
    "\n",
    "param_grid = {\"knn__n_neighbors\": range(1,6)}\n",
    "stats_model_CV = grid_search.GridSearchCV( stats_pipe,\n",
    "                param_grid=param_grid,\n",
    "                cv=cross_validation.ShuffleSplit(len(df.index), n_iter=20, \n",
    "                    test_size=0.2, random_state=42) )\n",
    "\n",
    "stats_model_CV.fit(df,df.SALEPRICE)"
   ]
  },
  {
   "cell_type": "code",
   "execution_count": 38,
   "metadata": {
    "collapsed": false
   },
   "outputs": [
    {
     "data": {
      "image/png": "[encoded data removed]",
      "text/plain": [
       "<matplotlib.figure.Figure at 0x7fc330b81810>"
      ]
     },
     "metadata": {},
     "output_type": "display_data"
    },
    {
     "name": "stdout",
     "output_type": "stream",
     "text": [
      "{'knn__n_neighbors': 2}\n"
     ]
    },
    {
     "data": {
      "text/plain": [
       "<matplotlib.figure.Figure at 0x7fc330e5c9d0>"
      ]
     },
     "metadata": {},
     "output_type": "display_data"
    }
   ],
   "source": [
    "for key in param_grid.keys():\n",
    "  f = grid_score_plotter(stats_model_CV,key,title='Cross Validation Using Amenities',\n",
    "                        xlabel='Number of Neighbors')\n",
    "\n",
    "print stats_model_CV.best_params_"
   ]
  },
  {
   "cell_type": "code",
   "execution_count": null,
   "metadata": {
    "collapsed": false
   },
   "outputs": [],
   "source": [
    "\n",
    "\n",
    "stats_pipe = Pipeline([\n",
    "    ('sel',ColumnSelectTransformer(new_stats_cols,rescale=None)),\n",
    "    ('model',ensemble.RandomForestRegressor(min_samples_leaf=3))\n",
    "  ])\n",
    "\n",
    "param_grid = {\"model__min_samples_split\": range(2,8,2)}\n",
    "stats_model_CV = grid_search.GridSearchCV( stats_pipe,\n",
    "                param_grid=param_grid,\n",
    "                cv=cross_validation.ShuffleSplit(len(df.index), n_iter=20, \n",
    "                    test_size=0.2, random_state=42) )\n",
    "\n",
    "stats_model_CV.fit(df,df.SALEPRICE)\n",
    "\n",
    "for key in param_grid.keys():\n",
    "  grid_score_plotter(stats_model_CV,key)\n"
   ]
  },
  {
   "cell_type": "code",
   "execution_count": null,
   "metadata": {
    "collapsed": true
   },
   "outputs": [],
   "source": []
  },
  {
   "cell_type": "code",
   "execution_count": null,
   "metadata": {
    "collapsed": false
   },
   "outputs": [],
   "source": [
    "## Combo RF\n",
    "from sklearn import cross_validation, grid_search, neighbors, ensemble\n",
    "from sklearn.pipeline import Pipeline\n",
    "from sklearn.decomposition import PCA\n",
    "from sklearn import linear_model\n",
    "\n",
    "combo_pipe = Pipeline([\n",
    "    ('union',\n",
    "       FeatureUnion([\n",
    "              ('lat_lng_pipe',\n",
    "                 Pipeline([\n",
    "                  ('sel',ColumnSelectTransformer(['latitude','longitude'],rescale=None)),\n",
    "                ])\n",
    "              ),\n",
    "              ('stats_pipe',\n",
    "                 Pipeline([\n",
    "                  ('sel',ColumnSelectTransformer(new_stats_cols,rescale=None)),\n",
    "                ])\n",
    "              ),          \n",
    "      ]) \n",
    "    ),  \n",
    "    ('model',ensemble.RandomForestRegressor())\n",
    "  ])\n",
    "\n",
    "param_grid = {\"model__min_samples_split\": range(1,3),\"model__min_samples_leaf\": range(1,3)}\n",
    "combo_model_CV = grid_search.GridSearchCV( combo_pipe,\n",
    "                param_grid=param_grid,\n",
    "                cv=cross_validation.ShuffleSplit(len(df.index), n_iter=20, \n",
    "                    test_size=0.2, random_state=42) )\n",
    "\n",
    "combo_model_CV.fit(df,df.SALEPRICE)\n",
    "\n",
    "for key in param_grid.keys():\n",
    "  grid_score_plotter(combo_model_CV,key)\n",
    "\n",
    "computed_error['combo_error'] = abs(df.SALEPRICE - lat_lng_model.predict(df))\n",
    "\n",
    "print computed_error.mean()\n",
    "print combo_model_CV.best_params_\n",
    "\n",
    "\n",
    "#combo_model = combo_pipe.fit(df,df.SALEPRICE)"
   ]
  },
  {
   "cell_type": "code",
   "execution_count": null,
   "metadata": {
    "collapsed": false
   },
   "outputs": [],
   "source": [
    "print np.mean(np.abs(combo_model.predict(df) - df.SALEPRICE))\n",
    "if 1:\n",
    "  with open('./data/p_combo_model_rf.dpkl','wb') as p_output:\n",
    "    pickle.dump(combo_model,p_output)"
   ]
  },
  {
   "cell_type": "code",
   "execution_count": null,
   "metadata": {
    "collapsed": true
   },
   "outputs": [],
   "source": [
    "neighbors.KNeighborsRegressor?"
   ]
  },
  {
   "cell_type": "code",
   "execution_count": null,
   "metadata": {
    "collapsed": false
   },
   "outputs": [],
   "source": [
    "## Combo KNN\n",
    "from sklearn import cross_validation, grid_search, neighbors, ensemble\n",
    "from sklearn.pipeline import Pipeline\n",
    "from sklearn.decomposition import PCA\n",
    "from sklearn import linear_model\n",
    "\n",
    "combo_pipe = Pipeline([\n",
    "    ('union',\n",
    "       FeatureUnion([\n",
    "              ('landarea_pipe',\n",
    "                 Pipeline([\n",
    "                  ('sel',ColumnSelectTransformer(['LANDAREA'])),\n",
    "                  ('scaling', preprocessing.StandardScaler(copy=True)),\n",
    "                ])\n",
    "              ),\n",
    "              ('lat_lng_pipe',\n",
    "                 Pipeline([\n",
    "                  ('sel',ColumnSelectTransformer(['latitude','longitude'])),\n",
    "                  ('scaling', preprocessing.MinMaxScaler(copy=True)),\n",
    "                ])\n",
    "              ),\n",
    "              ('stats_pipe',\n",
    "                 Pipeline([\n",
    "                  ('sel',ColumnSelectTransformer(new_stats_cols)),\n",
    "                  ('scaling', preprocessing.StandardScaler(copy=True)),\n",
    "                ])\n",
    "              ),          \n",
    "      ]) \n",
    "    ),  \n",
    "    ('model',neighbors.KNeighborsRegressor())\n",
    "  ])\n",
    "\n",
    "if 1:\n",
    "  param_grid = {\"model__n_neighbors\": range(1,9)}\n",
    "  combo_model = grid_search.GridSearchCV( combo_pipe,\n",
    "                  param_grid=param_grid,\n",
    "                  cv=cross_validation.ShuffleSplit(len(df.index), n_iter=20, \n",
    "                      test_size=0.2, random_state=42) )\n",
    "\n",
    "  combo_model.fit(df,df.SALEPRICE)\n",
    "\n",
    "  for key in param_grid.keys():\n",
    "    grid_score_plotter(combo_model,key)\n",
    "else:\n",
    "  combo_model = combo_pipe.fit(df,df.SALEPRICE)"
   ]
  },
  {
   "cell_type": "code",
   "execution_count": null,
   "metadata": {
    "collapsed": false
   },
   "outputs": [],
   "source": []
  },
  {
   "cell_type": "code",
   "execution_count": null,
   "metadata": {
    "collapsed": false
   },
   "outputs": [],
   "source": [
    "np.mean(np.abs(X.SALEPRICE-full_pipe.predict(X)))\n"
   ]
  }
 ],
 "metadata": {
  "kernelspec": {
   "display_name": "Python 2",
   "language": "python",
   "name": "python2"
  },
  "language_info": {
   "codemirror_mode": {
    "name": "ipython",
    "version": 2
   },
   "file_extension": ".py",
   "mimetype": "text/x-python",
   "name": "python",
   "nbconvert_exporter": "python",
   "pygments_lexer": "ipython2",
   "version": "2.7.10"
  }
 },
 "nbformat": 4,
 "nbformat_minor": 0
}
